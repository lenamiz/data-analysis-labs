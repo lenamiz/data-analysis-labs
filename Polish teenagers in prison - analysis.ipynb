{
 "cells": [
  {
   "cell_type": "code",
   "execution_count": 32,
   "metadata": {},
   "outputs": [],
   "source": [
    "import pandas as pd\n",
    "import matplotlib.pyplot as plt"
   ]
  },
  {
   "cell_type": "markdown",
   "metadata": {},
   "source": [
    "## Teenagers and young adults of age 17-21 sentenced with decree absolute in Poland during 2010-2018\n",
    "\n",
    "Source: https://stat.gov.pl/obszary-tematyczne/wymiar-sprawiedliwosci/wymiar-sprawiedliwosci/przestepstwa-przeciwko-zyciu-i-zdrowiu,3,1.html"
   ]
  },
  {
   "cell_type": "markdown",
   "metadata": {},
   "source": [
    "### Overview and basic statistics"
   ]
  },
  {
   "cell_type": "code",
   "execution_count": 2,
   "metadata": {
    "scrolled": true
   },
   "outputs": [
    {
     "data": {
      "text/html": [
       "<div>\n",
       "<style scoped>\n",
       "    .dataframe tbody tr th:only-of-type {\n",
       "        vertical-align: middle;\n",
       "    }\n",
       "\n",
       "    .dataframe tbody tr th {\n",
       "        vertical-align: top;\n",
       "    }\n",
       "\n",
       "    .dataframe thead th {\n",
       "        text-align: right;\n",
       "    }\n",
       "</style>\n",
       "<table border=\"1\" class=\"dataframe\">\n",
       "  <thead>\n",
       "    <tr style=\"text-align: right;\">\n",
       "      <th></th>\n",
       "      <th>wiek</th>\n",
       "      <th>płeć</th>\n",
       "      <th>rok</th>\n",
       "      <th>skazanych</th>\n",
       "    </tr>\n",
       "  </thead>\n",
       "  <tbody>\n",
       "    <tr>\n",
       "      <th>0</th>\n",
       "      <td>17</td>\n",
       "      <td>Kobiety</td>\n",
       "      <td>2010</td>\n",
       "      <td>741</td>\n",
       "    </tr>\n",
       "    <tr>\n",
       "      <th>1</th>\n",
       "      <td>18</td>\n",
       "      <td>Kobiety</td>\n",
       "      <td>2010</td>\n",
       "      <td>1018</td>\n",
       "    </tr>\n",
       "    <tr>\n",
       "      <th>2</th>\n",
       "      <td>19</td>\n",
       "      <td>Kobiety</td>\n",
       "      <td>2010</td>\n",
       "      <td>1126</td>\n",
       "    </tr>\n",
       "    <tr>\n",
       "      <th>3</th>\n",
       "      <td>20</td>\n",
       "      <td>Kobiety</td>\n",
       "      <td>2010</td>\n",
       "      <td>1188</td>\n",
       "    </tr>\n",
       "    <tr>\n",
       "      <th>4</th>\n",
       "      <td>21</td>\n",
       "      <td>Kobiety</td>\n",
       "      <td>2010</td>\n",
       "      <td>1205</td>\n",
       "    </tr>\n",
       "    <tr>\n",
       "      <th>...</th>\n",
       "      <td>...</td>\n",
       "      <td>...</td>\n",
       "      <td>...</td>\n",
       "      <td>...</td>\n",
       "    </tr>\n",
       "    <tr>\n",
       "      <th>85</th>\n",
       "      <td>17</td>\n",
       "      <td>Mężczyźni</td>\n",
       "      <td>2018</td>\n",
       "      <td>3248</td>\n",
       "    </tr>\n",
       "    <tr>\n",
       "      <th>86</th>\n",
       "      <td>18</td>\n",
       "      <td>Mężczyźni</td>\n",
       "      <td>2018</td>\n",
       "      <td>5490</td>\n",
       "    </tr>\n",
       "    <tr>\n",
       "      <th>87</th>\n",
       "      <td>19</td>\n",
       "      <td>Mężczyźni</td>\n",
       "      <td>2018</td>\n",
       "      <td>6466</td>\n",
       "    </tr>\n",
       "    <tr>\n",
       "      <th>88</th>\n",
       "      <td>20</td>\n",
       "      <td>Mężczyźni</td>\n",
       "      <td>2018</td>\n",
       "      <td>6857</td>\n",
       "    </tr>\n",
       "    <tr>\n",
       "      <th>89</th>\n",
       "      <td>21</td>\n",
       "      <td>Mężczyźni</td>\n",
       "      <td>2018</td>\n",
       "      <td>7158</td>\n",
       "    </tr>\n",
       "  </tbody>\n",
       "</table>\n",
       "<p>90 rows × 4 columns</p>\n",
       "</div>"
      ],
      "text/plain": [
       "    wiek       płeć   rok  skazanych\n",
       "0     17    Kobiety  2010        741\n",
       "1     18    Kobiety  2010       1018\n",
       "2     19    Kobiety  2010       1126\n",
       "3     20    Kobiety  2010       1188\n",
       "4     21    Kobiety  2010       1205\n",
       "..   ...        ...   ...        ...\n",
       "85    17  Mężczyźni  2018       3248\n",
       "86    18  Mężczyźni  2018       5490\n",
       "87    19  Mężczyźni  2018       6466\n",
       "88    20  Mężczyźni  2018       6857\n",
       "89    21  Mężczyźni  2018       7158\n",
       "\n",
       "[90 rows x 4 columns]"
      ]
     },
     "execution_count": 2,
     "metadata": {},
     "output_type": "execute_result"
    }
   ],
   "source": [
    "#data overview\n",
    "df = pd.read_csv('wyroki.csv')\n",
    "df"
   ]
  },
  {
   "cell_type": "markdown",
   "metadata": {},
   "source": [
    "Records are numbers of sentenced people grouped by age and gender."
   ]
  },
  {
   "cell_type": "code",
   "execution_count": 3,
   "metadata": {},
   "outputs": [
    {
     "data": {
      "text/html": [
       "<div>\n",
       "<style scoped>\n",
       "    .dataframe tbody tr th:only-of-type {\n",
       "        vertical-align: middle;\n",
       "    }\n",
       "\n",
       "    .dataframe tbody tr th {\n",
       "        vertical-align: top;\n",
       "    }\n",
       "\n",
       "    .dataframe thead th {\n",
       "        text-align: right;\n",
       "    }\n",
       "</style>\n",
       "<table border=\"1\" class=\"dataframe\">\n",
       "  <thead>\n",
       "    <tr style=\"text-align: right;\">\n",
       "      <th></th>\n",
       "      <th>wiek</th>\n",
       "      <th>rok</th>\n",
       "      <th>skazanych</th>\n",
       "    </tr>\n",
       "  </thead>\n",
       "  <tbody>\n",
       "    <tr>\n",
       "      <th>count</th>\n",
       "      <td>90.000000</td>\n",
       "      <td>90.000000</td>\n",
       "      <td>90.000000</td>\n",
       "    </tr>\n",
       "    <tr>\n",
       "      <th>mean</th>\n",
       "      <td>19.000000</td>\n",
       "      <td>2014.000000</td>\n",
       "      <td>5375.355556</td>\n",
       "    </tr>\n",
       "    <tr>\n",
       "      <th>std</th>\n",
       "      <td>1.422136</td>\n",
       "      <td>2.596454</td>\n",
       "      <td>5233.707765</td>\n",
       "    </tr>\n",
       "    <tr>\n",
       "      <th>min</th>\n",
       "      <td>17.000000</td>\n",
       "      <td>2010.000000</td>\n",
       "      <td>324.000000</td>\n",
       "    </tr>\n",
       "    <tr>\n",
       "      <th>25%</th>\n",
       "      <td>18.000000</td>\n",
       "      <td>2012.000000</td>\n",
       "      <td>832.250000</td>\n",
       "    </tr>\n",
       "    <tr>\n",
       "      <th>50%</th>\n",
       "      <td>19.000000</td>\n",
       "      <td>2014.000000</td>\n",
       "      <td>2226.500000</td>\n",
       "    </tr>\n",
       "    <tr>\n",
       "      <th>75%</th>\n",
       "      <td>20.000000</td>\n",
       "      <td>2016.000000</td>\n",
       "      <td>9021.000000</td>\n",
       "    </tr>\n",
       "    <tr>\n",
       "      <th>max</th>\n",
       "      <td>21.000000</td>\n",
       "      <td>2018.000000</td>\n",
       "      <td>15946.000000</td>\n",
       "    </tr>\n",
       "  </tbody>\n",
       "</table>\n",
       "</div>"
      ],
      "text/plain": [
       "            wiek          rok     skazanych\n",
       "count  90.000000    90.000000     90.000000\n",
       "mean   19.000000  2014.000000   5375.355556\n",
       "std     1.422136     2.596454   5233.707765\n",
       "min    17.000000  2010.000000    324.000000\n",
       "25%    18.000000  2012.000000    832.250000\n",
       "50%    19.000000  2014.000000   2226.500000\n",
       "75%    20.000000  2016.000000   9021.000000\n",
       "max    21.000000  2018.000000  15946.000000"
      ]
     },
     "execution_count": 3,
     "metadata": {},
     "output_type": "execute_result"
    }
   ],
   "source": [
    "#basic statistics\n",
    "df.describe()"
   ]
  },
  {
   "cell_type": "markdown",
   "metadata": {},
   "source": [
    "Since there isn't much data here, the only variable worth computing is the number of sentenced.\n",
    "\n",
    "The smallest group has only a little over 300 sentenced - not many compared to the biggest one with over 15k.\n",
    "On average, a group of certain age and gender consists of 5k people.\n",
    "\n",
    "Let's see how many people were sentenced gender-wise."
   ]
  },
  {
   "cell_type": "code",
   "execution_count": 4,
   "metadata": {},
   "outputs": [
    {
     "data": {
      "text/plain": [
       "483782"
      ]
     },
     "execution_count": 4,
     "metadata": {},
     "output_type": "execute_result"
    }
   ],
   "source": [
    "#people sentenced in total\n",
    "df['skazanych'].sum()"
   ]
  },
  {
   "cell_type": "code",
   "execution_count": 5,
   "metadata": {},
   "outputs": [
    {
     "data": {
      "text/plain": [
       "37192"
      ]
     },
     "execution_count": 5,
     "metadata": {},
     "output_type": "execute_result"
    }
   ],
   "source": [
    "#of which women\n",
    "data = df[df[\"płeć\"]=='Kobiety']\n",
    "data['skazanych'].sum()"
   ]
  },
  {
   "cell_type": "code",
   "execution_count": 6,
   "metadata": {},
   "outputs": [
    {
     "data": {
      "text/plain": [
       "446590"
      ]
     },
     "execution_count": 6,
     "metadata": {},
     "output_type": "execute_result"
    }
   ],
   "source": [
    "#and men\n",
    "data = df[df[\"płeć\"]=='Mężczyźni']\n",
    "data['skazanych'].sum()"
   ]
  },
  {
   "cell_type": "markdown",
   "metadata": {},
   "source": [
    "### People sentenced in particular years considering gender"
   ]
  },
  {
   "cell_type": "markdown",
   "metadata": {},
   "source": [
    "I split the sample into two dataframes, df_women and df_men, grouping by gender."
   ]
  },
  {
   "cell_type": "code",
   "execution_count": 7,
   "metadata": {},
   "outputs": [],
   "source": [
    "df_women = df[df[\"płeć\"]=='Kobiety']\n",
    "df_men = df[df[\"płeć\"]=='Mężczyźni']"
   ]
  },
  {
   "cell_type": "code",
   "execution_count": 8,
   "metadata": {
    "scrolled": true
   },
   "outputs": [
    {
     "data": {
      "image/png": "[encoded data removed]",
      "text/plain": [
       "<Figure size 1440x720 with 4 Axes>"
      ]
     },
     "metadata": {
      "needs_background": "light"
     },
     "output_type": "display_data"
    }
   ],
   "source": [
    "#scatterplots\n",
    "plt.figure(figsize=(20,10))\n",
    "\n",
    "#statistics for women\n",
    "plt.subplot(221)\n",
    "plt.title('Kobiety')\n",
    "\n",
    "plt.scatter(x=df_women['rok'], y=df_women['skazanych'], c=df_women['wiek'])\n",
    "plt.xlabel('rok')\n",
    "plt.ylabel('skazanych')\n",
    "#plt.ylim((0, 16000))   #set the yscale to the same as men's\n",
    "\n",
    "clb=plt.colorbar()\n",
    "clb.set_label('wiek')\n",
    "\n",
    "\n",
    "#statistics for men\n",
    "plt.subplot(222)\n",
    "plt.title(\"Mężczyźni\")\n",
    "\n",
    "plt.scatter(x=df_men['rok'], y=df_men['skazanych'], c=df_men['wiek'])\n",
    "plt.xlabel('rok')\n",
    "plt.ylabel('skazanych')\n",
    "\n",
    "clb=plt.colorbar()\n",
    "clb.set_label('wiek')\n",
    "\n",
    "\n",
    "plt.show()"
   ]
  },
  {
   "cell_type": "markdown",
   "metadata": {},
   "source": [
    "In general we can see a consistent drop in number of sentenced throughout the years for both genders. However, if we set the range of Y axis scale for women to be the same as men's the difference in numbers in each year is very evident. \n",
    "\n",
    "For example, let's compare the smallest groups for each gender - female one consists of less than 400 sentenced while male group has about 4 000 - that's ten times more! If we go further and look at the biggest groups, female one consists of about 1 200 sentenced and male one of 16 000 - that's about 13 times more!\n",
    "\n",
    "For both genders each year 17-year-olds had been the smallest group with significant gap between them and the rest. The largest female groups were almost always 21-year-olds and for males it was either men of age 19 or 21."
   ]
  },
  {
   "cell_type": "markdown",
   "metadata": {},
   "source": [
    "Let's see this data on a boxplot - a better visualisation if we want to see the distribution in each group."
   ]
  },
  {
   "cell_type": "code",
   "execution_count": 9,
   "metadata": {},
   "outputs": [
    {
     "name": "stdout",
     "output_type": "stream",
     "text": [
      "Kobiety:\n"
     ]
    },
    {
     "data": {
      "text/plain": [
       "<matplotlib.axes._subplots.AxesSubplot at 0x229d272d520>"
      ]
     },
     "execution_count": 9,
     "metadata": {},
     "output_type": "execute_result"
    },
    {
     "data": {
      "image/png": "[encoded data removed]",
      "text/plain": [
       "<Figure size 432x288 with 1 Axes>"
      ]
     },
     "metadata": {
      "needs_background": "light"
     },
     "output_type": "display_data"
    }
   ],
   "source": [
    "print('Kobiety:')\n",
    "df_women = df_women[df_women['wiek']<22]\n",
    "df_women[['rok', 'skazanych']].boxplot(by=\"rok\")"
   ]
  },
  {
   "cell_type": "markdown",
   "metadata": {},
   "source": [
    "Almost in each year the median is in the upper part of the box, meaning that data is skewed."
   ]
  },
  {
   "cell_type": "code",
   "execution_count": 10,
   "metadata": {},
   "outputs": [
    {
     "name": "stdout",
     "output_type": "stream",
     "text": [
      "Mężczyźni:\n"
     ]
    },
    {
     "data": {
      "text/plain": [
       "<matplotlib.axes._subplots.AxesSubplot at 0x229d29ebe20>"
      ]
     },
     "execution_count": 10,
     "metadata": {},
     "output_type": "execute_result"
    },
    {
     "data": {
      "image/png": "[encoded data removed]",
      "text/plain": [
       "<Figure size 432x288 with 1 Axes>"
      ]
     },
     "metadata": {
      "needs_background": "light"
     },
     "output_type": "display_data"
    }
   ],
   "source": [
    "print('Mężczyźni:')\n",
    "df_men = df_men[df_men['wiek']<22]\n",
    "df_men[['rok', 'skazanych']].boxplot(by=\"rok\")"
   ]
  },
  {
   "cell_type": "markdown",
   "metadata": {},
   "source": [
    "#### Sum of sentenced in each year"
   ]
  },
  {
   "cell_type": "code",
   "execution_count": 11,
   "metadata": {},
   "outputs": [],
   "source": [
    "#adding up all groups aged 17-21 in certain year\n",
    "#to do that we need to create a new row of data for each year\n",
    "#age=1000 indicates it's a sum of all sentenced in that year \n",
    "\n",
    "#women:\n",
    "\n",
    "if(df_women.size<216): #this makes sure we don't run this cell more times than necessary - will append more rows with each iteration\n",
    "    for i in range(9):\n",
    "        dfw = df_women[df_women[\"rok\"]==(2010+i)]  #choosing certain year\n",
    "        sum = dfw['skazanych'].sum() #adding up all sentenced in this year\n",
    "        df_sum = {'wiek': 1000, 'płeć': 'Kobiety', 'rok': (2010+i), 'skazanych': sum} #creating new record\n",
    "        df_women = df_women.append(df_sum, ignore_index = True) #adding new record to df with women's data\n",
    "\n",
    "        \n",
    "#doing the same for data frame with men's data\n",
    "\n",
    "if(df_men.size<216):     \n",
    "    for i in range(9):\n",
    "        dfm = df_men[df_men[\"rok\"]==(2010+i)]  \n",
    "        sum = dfm['skazanych'].sum() \n",
    "        df_sum = {'wiek': 1000, 'płeć': 'Mężczyźni', 'rok': (2010+i), 'skazanych': sum} \n",
    "        df_men = df_men.append(df_sum, ignore_index = True) "
   ]
  },
  {
   "cell_type": "code",
   "execution_count": 12,
   "metadata": {},
   "outputs": [
    {
     "data": {
      "image/png": "[encoded data removed]",
      "text/plain": [
       "<Figure size 1440x720 with 2 Axes>"
      ]
     },
     "metadata": {
      "needs_background": "light"
     },
     "output_type": "display_data"
    }
   ],
   "source": [
    "#more scatterplots - let's see total numbers for each gender and year\n",
    "\n",
    "plt.figure(figsize=(20,10))\n",
    "\n",
    "\n",
    "#statistics for women\n",
    "plt.subplot(221)\n",
    "plt.title('Kobiety')\n",
    "\n",
    "df_women_tot = df_women[df_women[\"wiek\"]==1000] #choosing only added up data\n",
    "plt.scatter(x=df_women_tot['rok'], y=df_women_tot['skazanych'], c='orange')\n",
    "plt.xlabel('rok')\n",
    "plt.ylabel('skazanych')\n",
    "#plt.ylim((0, 16000))   #set the yscale to the same as men's\n",
    "\n",
    "\n",
    "#statistics for men\n",
    "plt.subplot(222)\n",
    "plt.title('Mężczyźni i kobiety')\n",
    "\n",
    "df_men_tot = df_men[df_men[\"wiek\"]==1000] \n",
    "plt.scatter(x=df_men_tot['rok'], y=df_men_tot['skazanych'], c='green')\n",
    "plt.scatter(x=df_women_tot['rok'], y=df_women_tot['skazanych'], c='orange') #let's put women on the plot for reference\n",
    "plt.xlabel('rok')\n",
    "plt.ylabel('skazanych')\n",
    "\n",
    "plt.show()"
   ]
  },
  {
   "cell_type": "markdown",
   "metadata": {},
   "source": [
    "Same as before - there's a drop throughout the years, tendency is similar for both genders. If we put statistics for both genders on one plot, female groups look very small in comparison to male ones and seem almost like a constant.\n",
    "\n",
    "2017 was the year when number of sentenced was the lowest while 2010 had the highest number, regardless the gender.\n",
    "\n",
    "Now, let's see them all together."
   ]
  },
  {
   "cell_type": "code",
   "execution_count": 25,
   "metadata": {},
   "outputs": [],
   "source": [
    "#adding up all sentenced in each year\n",
    "\n",
    "if(df.size<396): #this makes sure we don't run this cell more times than necessary - will append more rows with each iteration\n",
    "    for i in range(9):\n",
    "        women = df_women[(df_women[\"rok\"]==(2010+i))&(df_women[\"wiek\"]==1000)]\n",
    "        men = df_men[(df_men[\"rok\"]==(2010+i))&(df_men[\"wiek\"]==1000)]\n",
    "        sum = women['skazanych'].sum()+men['skazanych'].sum() #adding up all sentenced men&women in this year\n",
    "        df_sum = {'wiek': 1000, 'płeć': 'Razem', 'rok': (2010+i), 'skazanych': sum} #creating new record\n",
    "        df = df.append(df_sum, ignore_index = True) #adding new record to df\n",
    "       "
   ]
  },
  {
   "cell_type": "code",
   "execution_count": 26,
   "metadata": {},
   "outputs": [
    {
     "data": {
      "image/png": "[encoded data removed]",
      "text/plain": [
       "<Figure size 432x288 with 1 Axes>"
      ]
     },
     "metadata": {
      "needs_background": "light"
     },
     "output_type": "display_data"
    }
   ],
   "source": [
    "#creating scatterplot\n",
    "\n",
    "df_sum = df[(df[\"wiek\"]==1000)&(df[\"płeć\"]=='Razem')]\n",
    "plt.scatter(x=df_sum['rok'], y=df_sum['skazanych'])\n",
    "plt.xlabel('rok')\n",
    "plt.ylabel('skazanych')\n",
    "plt.title('Liczba skazanych w poszczególnych latach')\n",
    "plt.show()"
   ]
  },
  {
   "cell_type": "markdown",
   "metadata": {},
   "source": [
    "Tendency is same as before, this is just to show the scale of all people sentenced."
   ]
  },
  {
   "cell_type": "markdown",
   "metadata": {},
   "source": [
    "### Sentenced divided into groups of age"
   ]
  },
  {
   "cell_type": "markdown",
   "metadata": {},
   "source": [
    "Now, let's set gender aside and look at years of age."
   ]
  },
  {
   "cell_type": "code",
   "execution_count": 13,
   "metadata": {},
   "outputs": [
    {
     "data": {
      "text/plain": [
       "<matplotlib.axes._subplots.AxesSubplot at 0x229d21d72b0>"
      ]
     },
     "execution_count": 13,
     "metadata": {},
     "output_type": "execute_result"
    },
    {
     "data": {
      "image/png": "[encoded data removed]",
      "text/plain": [
       "<Figure size 432x288 with 1 Axes>"
      ]
     },
     "metadata": {
      "needs_background": "light"
     },
     "output_type": "display_data"
    }
   ],
   "source": [
    "data = df[['wiek', 'skazanych']]\n",
    "data.boxplot(by=\"wiek\")"
   ]
  },
  {
   "cell_type": "markdown",
   "metadata": {},
   "source": [
    "The biggest range in size of groups is for people of 19 years of age."
   ]
  },
  {
   "cell_type": "markdown",
   "metadata": {},
   "source": [
    "Now, let's group sentenced age-wise."
   ]
  },
  {
   "cell_type": "code",
   "execution_count": 30,
   "metadata": {},
   "outputs": [],
   "source": [
    "#adding up depending of year of age\n",
    "\n",
    "if(df.size<416): \n",
    "    for i in range(5):\n",
    "        women = df_women[df_women[\"wiek\"]==17+i]\n",
    "        men = df_men[df_men[\"wiek\"]==17+i]\n",
    "        sum = women['skazanych'].sum()+men['skazanych'].sum() #adding up all sentenced men&women in this year\n",
    "        df_sum = {'wiek': 17+i, 'płeć': 'Razem', 'rok': 1000, 'skazanych': sum} #creating new record\n",
    "        df = df.append(df_sum, ignore_index = True) #adding new record to df"
   ]
  },
  {
   "cell_type": "code",
   "execution_count": 31,
   "metadata": {},
   "outputs": [
    {
     "data": {
      "image/png": "[encoded data removed]",
      "text/plain": [
       "<Figure size 432x288 with 1 Axes>"
      ]
     },
     "metadata": {
      "needs_background": "light"
     },
     "output_type": "display_data"
    }
   ],
   "source": [
    "#creating scatterplot\n",
    "\n",
    "df_sum = df[(df[\"rok\"]==1000)&(df[\"płeć\"]=='Razem')]\n",
    "plt.scatter(x=df_sum['wiek'], y=df_sum['skazanych'])\n",
    "plt.xlabel('wiek')\n",
    "plt.ylabel('skazanych')\n",
    "plt.title('Liczba skazanych w poszczególnym wieku')\n",
    "plt.show()"
   ]
  },
  {
   "cell_type": "markdown",
   "metadata": {},
   "source": [
    "A confirmation of what we saw before - 19 year olds received a decree absolute most often."
   ]
  },
  {
   "cell_type": "code",
   "execution_count": null,
   "metadata": {},
   "outputs": [],
   "source": []
  }
 ],
 "metadata": {
  "kernelspec": {
   "display_name": "Python 3",
   "language": "python",
   "name": "python3"
  },
  "language_info": {
   "codemirror_mode": {
    "name": "ipython",
    "version": 3
   },
   "file_extension": ".py",
   "mimetype": "text/x-python",
   "name": "python",
   "nbconvert_exporter": "python",
   "pygments_lexer": "ipython3",
   "version": "3.8.3"
  }
 },
 "nbformat": 4,
 "nbformat_minor": 4
}
