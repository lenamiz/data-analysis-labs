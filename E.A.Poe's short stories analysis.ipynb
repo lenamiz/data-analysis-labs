{
 "cells": [
  {
   "cell_type": "code",
   "execution_count": 1,
   "metadata": {},
   "outputs": [],
   "source": [
    "import pandas as pd\n",
    "import numpy as np\n",
    "import matplotlib.pyplot as plt"
   ]
  },
  {
   "cell_type": "markdown",
   "metadata": {},
   "source": [
    "# Edgar Allan Poe's short stories corpus"
   ]
  },
  {
   "cell_type": "code",
   "execution_count": 2,
   "metadata": {},
   "outputs": [
    {
     "data": {
      "text/html": [
       "<div>\n",
       "<style scoped>\n",
       "    .dataframe tbody tr th:only-of-type {\n",
       "        vertical-align: middle;\n",
       "    }\n",
       "\n",
       "    .dataframe tbody tr th {\n",
       "        vertical-align: top;\n",
       "    }\n",
       "\n",
       "    .dataframe thead th {\n",
       "        text-align: right;\n",
       "    }\n",
       "</style>\n",
       "<table border=\"1\" class=\"dataframe\">\n",
       "  <thead>\n",
       "    <tr style=\"text-align: right;\">\n",
       "      <th></th>\n",
       "      <th>title</th>\n",
       "      <th>text</th>\n",
       "      <th>wikipedia_title</th>\n",
       "      <th>publication_date</th>\n",
       "      <th>first_published_in</th>\n",
       "      <th>classification</th>\n",
       "      <th>notes</th>\n",
       "      <th>normalized_date</th>\n",
       "    </tr>\n",
       "  </thead>\n",
       "  <tbody>\n",
       "    <tr>\n",
       "      <th>0</th>\n",
       "      <td>A DESCENT INTO THE MAELSTRÖM</td>\n",
       "      <td>The ways of God in Nature, as in Providence, a...</td>\n",
       "      <td>A Descent into the Maelström</td>\n",
       "      <td>May 1841</td>\n",
       "      <td>Graham's Magazine</td>\n",
       "      <td>Adventure</td>\n",
       "      <td>?</td>\n",
       "      <td>May 1841</td>\n",
       "    </tr>\n",
       "    <tr>\n",
       "      <th>1</th>\n",
       "      <td>A PREDICAMENT</td>\n",
       "      <td>What chance, good lady, hath bereft you thus? ...</td>\n",
       "      <td>A Predicament</td>\n",
       "      <td>November 1838</td>\n",
       "      <td>Baltimore American Museum</td>\n",
       "      <td>Parody</td>\n",
       "      <td>Companion to \"How to Write a Blackwood Article...</td>\n",
       "      <td>November 1838</td>\n",
       "    </tr>\n",
       "    <tr>\n",
       "      <th>2</th>\n",
       "      <td>A TALE OF JERUSALEM</td>\n",
       "      <td>Intensos rigidarn in frontern ascendere canos ...</td>\n",
       "      <td>A Tale of Jerusalem</td>\n",
       "      <td>June 9, 1832</td>\n",
       "      <td>Philadelphia Saturday Courier</td>\n",
       "      <td>Humor</td>\n",
       "      <td>?</td>\n",
       "      <td>June 1832</td>\n",
       "    </tr>\n",
       "    <tr>\n",
       "      <th>3</th>\n",
       "      <td>A TALE OF THE RAGGED MOUNTAINS</td>\n",
       "      <td>DURING the fall of the year 1827, while residi...</td>\n",
       "      <td>A Tale of the Ragged Mountains</td>\n",
       "      <td>April 1844</td>\n",
       "      <td>Godey's Lady's Book</td>\n",
       "      <td>Adventure,Science_fiction</td>\n",
       "      <td>?</td>\n",
       "      <td>April 1844</td>\n",
       "    </tr>\n",
       "    <tr>\n",
       "      <th>4</th>\n",
       "      <td>BERENICE</td>\n",
       "      <td>Dicebant mihi sodales, si sepulchrum amicae vi...</td>\n",
       "      <td>Berenice</td>\n",
       "      <td>March 1835</td>\n",
       "      <td>Southern Literary Messenger</td>\n",
       "      <td>Horror</td>\n",
       "      <td>?</td>\n",
       "      <td>March 1835</td>\n",
       "    </tr>\n",
       "  </tbody>\n",
       "</table>\n",
       "</div>"
      ],
      "text/plain": [
       "                            title  \\\n",
       "0    A DESCENT INTO THE MAELSTRÖM   \n",
       "1                   A PREDICAMENT   \n",
       "2             A TALE OF JERUSALEM   \n",
       "3  A TALE OF THE RAGGED MOUNTAINS   \n",
       "4                        BERENICE   \n",
       "\n",
       "                                                text  \\\n",
       "0  The ways of God in Nature, as in Providence, a...   \n",
       "1  What chance, good lady, hath bereft you thus? ...   \n",
       "2  Intensos rigidarn in frontern ascendere canos ...   \n",
       "3  DURING the fall of the year 1827, while residi...   \n",
       "4  Dicebant mihi sodales, si sepulchrum amicae vi...   \n",
       "\n",
       "                  wikipedia_title publication_date  \\\n",
       "0    A Descent into the Maelström         May 1841   \n",
       "1                   A Predicament    November 1838   \n",
       "2             A Tale of Jerusalem     June 9, 1832   \n",
       "3  A Tale of the Ragged Mountains       April 1844   \n",
       "4                        Berenice       March 1835   \n",
       "\n",
       "              first_published_in             classification  \\\n",
       "0              Graham's Magazine                  Adventure   \n",
       "1      Baltimore American Museum                     Parody   \n",
       "2  Philadelphia Saturday Courier                      Humor   \n",
       "3            Godey's Lady's Book  Adventure,Science_fiction   \n",
       "4    Southern Literary Messenger                     Horror   \n",
       "\n",
       "                                               notes normalized_date  \n",
       "0                                                  ?        May 1841  \n",
       "1  Companion to \"How to Write a Blackwood Article...   November 1838  \n",
       "2                                                  ?       June 1832  \n",
       "3                                                  ?      April 1844  \n",
       "4                                                  ?      March 1835  "
      ]
     },
     "execution_count": 2,
     "metadata": {},
     "output_type": "execute_result"
    }
   ],
   "source": [
    "df = pd.read_csv('eapoe-stories-corpus.csv')\n",
    "df.head()"
   ]
  },
  {
   "cell_type": "markdown",
   "metadata": {},
   "source": [
    "This dataframe consists of 70 rows, each containing title, story text, genre and date of publication"
   ]
  },
  {
   "cell_type": "markdown",
   "metadata": {},
   "source": [
    "Let's see what are all the genres:"
   ]
  },
  {
   "cell_type": "code",
   "execution_count": 3,
   "metadata": {},
   "outputs": [
    {
     "data": {
      "text/plain": [
       "array(['Adventure', 'Parody', 'Humor', 'Adventure,Science_fiction',\n",
       "       'Horror', 'Romance', 'Horror,Humor', 'Sketch', 'Satire',\n",
       "       'Hoax,Science_fiction', 'Science_fiction', 'Horror,Satire',\n",
       "       'Fantasy,Horror', 'Humor,Satire', 'Hoax,Horror,Science_fiction',\n",
       "       'Fantasy', 'Detective_fiction', 'Horror,Ratiocination',\n",
       "       'Detective_fiction,Satire', 'Hoax,Satire', 'Essay', 'Fiction,Hoax'],\n",
       "      dtype=object)"
      ]
     },
     "execution_count": 3,
     "metadata": {},
     "output_type": "execute_result"
    }
   ],
   "source": [
    "df.classification.unique()"
   ]
  },
  {
   "cell_type": "code",
   "execution_count": 4,
   "metadata": {},
   "outputs": [
    {
     "data": {
      "text/html": [
       "<div>\n",
       "<style scoped>\n",
       "    .dataframe tbody tr th:only-of-type {\n",
       "        vertical-align: middle;\n",
       "    }\n",
       "\n",
       "    .dataframe tbody tr th {\n",
       "        vertical-align: top;\n",
       "    }\n",
       "\n",
       "    .dataframe thead th {\n",
       "        text-align: right;\n",
       "    }\n",
       "</style>\n",
       "<table border=\"1\" class=\"dataframe\">\n",
       "  <thead>\n",
       "    <tr style=\"text-align: right;\">\n",
       "      <th></th>\n",
       "      <th>title</th>\n",
       "      <th>text</th>\n",
       "      <th>wikipedia_title</th>\n",
       "      <th>publication_date</th>\n",
       "      <th>first_published_in</th>\n",
       "      <th>classification</th>\n",
       "      <th>notes</th>\n",
       "      <th>normalized_date</th>\n",
       "    </tr>\n",
       "  </thead>\n",
       "  <tbody>\n",
       "    <tr>\n",
       "      <th>0</th>\n",
       "      <td>A DESCENT INTO THE MAELSTRÖM</td>\n",
       "      <td>The ways of God in Nature, as in Providence, a...</td>\n",
       "      <td>A Descent into the Maelström</td>\n",
       "      <td>May 1841</td>\n",
       "      <td>Graham's Magazine</td>\n",
       "      <td>Adventure</td>\n",
       "      <td>?</td>\n",
       "      <td>May 1841</td>\n",
       "    </tr>\n",
       "    <tr>\n",
       "      <th>37</th>\n",
       "      <td>THE GOLD-BUG</td>\n",
       "      <td>What ho! what ho! this fellow is dancing mad! ...</td>\n",
       "      <td>The Gold-Bug</td>\n",
       "      <td>June 1843</td>\n",
       "      <td>Dollar Newspaper</td>\n",
       "      <td>Adventure</td>\n",
       "      <td>?</td>\n",
       "      <td>June 1843</td>\n",
       "    </tr>\n",
       "    <tr>\n",
       "      <th>19</th>\n",
       "      <td>MS FOUND IN A BOTTLE</td>\n",
       "      <td>Qui n’a plus qu’un moment a vivre N’a plus rie...</td>\n",
       "      <td>MS. Found in a Bottle</td>\n",
       "      <td>October 19, 1833</td>\n",
       "      <td>Baltimore Saturday Visiter</td>\n",
       "      <td>Adventure</td>\n",
       "      <td>?</td>\n",
       "      <td>October 1833</td>\n",
       "    </tr>\n",
       "    <tr>\n",
       "      <th>3</th>\n",
       "      <td>A TALE OF THE RAGGED MOUNTAINS</td>\n",
       "      <td>DURING the fall of the year 1827, while residi...</td>\n",
       "      <td>A Tale of the Ragged Mountains</td>\n",
       "      <td>April 1844</td>\n",
       "      <td>Godey's Lady's Book</td>\n",
       "      <td>Adventure,Science_fiction</td>\n",
       "      <td>?</td>\n",
       "      <td>April 1844</td>\n",
       "    </tr>\n",
       "    <tr>\n",
       "      <th>45</th>\n",
       "      <td>THE MURDERS IN THE RUE MORGUE</td>\n",
       "      <td>What song the Syrens sang, or what name Achill...</td>\n",
       "      <td>The Murders in the Rue Morgue</td>\n",
       "      <td>April 1841</td>\n",
       "      <td>Graham's Magazine</td>\n",
       "      <td>Detective_fiction</td>\n",
       "      <td>?</td>\n",
       "      <td>April 1841</td>\n",
       "    </tr>\n",
       "  </tbody>\n",
       "</table>\n",
       "</div>"
      ],
      "text/plain": [
       "                             title  \\\n",
       "0     A DESCENT INTO THE MAELSTRÖM   \n",
       "37                    THE GOLD-BUG   \n",
       "19            MS FOUND IN A BOTTLE   \n",
       "3   A TALE OF THE RAGGED MOUNTAINS   \n",
       "45   THE MURDERS IN THE RUE MORGUE   \n",
       "\n",
       "                                                 text  \\\n",
       "0   The ways of God in Nature, as in Providence, a...   \n",
       "37  What ho! what ho! this fellow is dancing mad! ...   \n",
       "19  Qui n’a plus qu’un moment a vivre N’a plus rie...   \n",
       "3   DURING the fall of the year 1827, while residi...   \n",
       "45  What song the Syrens sang, or what name Achill...   \n",
       "\n",
       "                   wikipedia_title  publication_date  \\\n",
       "0     A Descent into the Maelström          May 1841   \n",
       "37                    The Gold-Bug         June 1843   \n",
       "19           MS. Found in a Bottle  October 19, 1833   \n",
       "3   A Tale of the Ragged Mountains        April 1844   \n",
       "45   The Murders in the Rue Morgue        April 1841   \n",
       "\n",
       "            first_published_in             classification notes  \\\n",
       "0            Graham's Magazine                  Adventure     ?   \n",
       "37            Dollar Newspaper                  Adventure     ?   \n",
       "19  Baltimore Saturday Visiter                  Adventure     ?   \n",
       "3          Godey's Lady's Book  Adventure,Science_fiction     ?   \n",
       "45           Graham's Magazine          Detective_fiction     ?   \n",
       "\n",
       "   normalized_date  \n",
       "0         May 1841  \n",
       "37       June 1843  \n",
       "19    October 1833  \n",
       "3       April 1844  \n",
       "45      April 1841  "
      ]
     },
     "execution_count": 4,
     "metadata": {},
     "output_type": "execute_result"
    }
   ],
   "source": [
    "df.sort_values(by='classification').head()"
   ]
  },
  {
   "cell_type": "markdown",
   "metadata": {},
   "source": [
    "## Frequent words"
   ]
  },
  {
   "cell_type": "markdown",
   "metadata": {},
   "source": [
    "To calculate most frequent words I use CountVectorizer with stop_words = 'english' which will eliminate words that don't matter that much."
   ]
  },
  {
   "cell_type": "code",
   "execution_count": 5,
   "metadata": {},
   "outputs": [],
   "source": [
    "from sklearn.feature_extraction.text import CountVectorizer\n",
    "\n",
    "vectorizer = CountVectorizer(analyzer='word',ngram_range=(1,1),max_df=1.,min_df=1,\n",
    "                             stop_words='english',token_pattern=r\"(?u)\\b\\w+\\b\",max_features=10000)\n",
    "\n",
    "#matrix of word count\n",
    "X=vectorizer.fit_transform(df['text'])"
   ]
  },
  {
   "cell_type": "markdown",
   "metadata": {},
   "source": [
    "### by title"
   ]
  },
  {
   "cell_type": "markdown",
   "metadata": {},
   "source": [
    "With the function below we can find out what are the most frequent words if we want to specify the title of the story."
   ]
  },
  {
   "cell_type": "code",
   "execution_count": 6,
   "metadata": {},
   "outputs": [],
   "source": [
    "#get most frequent words in the story\n",
    "#input: title of the story\n",
    "\n",
    "def freq_words_title(title):\n",
    "    print('Most frequent words of:',title)\n",
    "    \n",
    "    title_ind = df[df['title']==title].index\n",
    "\n",
    "    word_ind = X[title_ind,:].toarray()[0]>0 # only the words used in that story\n",
    "    title_word = np.asarray(vectorizer.get_feature_names())[word_ind]\n",
    "    df2 = pd.DataFrame(\n",
    "        np.asarray(X[title_ind,word_ind]).reshape(-1,),\n",
    "        index=title_word,columns=list(['count']))\n",
    "    \n",
    "    return df2.sort_values(by='count',ascending=False)"
   ]
  },
  {
   "cell_type": "code",
   "execution_count": 7,
   "metadata": {},
   "outputs": [
    {
     "name": "stdout",
     "output_type": "stream",
     "text": [
      "Most frequent words of: THE MURDERS IN THE RUE MORGUE\n"
     ]
    },
    {
     "data": {
      "text/html": [
       "<div>\n",
       "<style scoped>\n",
       "    .dataframe tbody tr th:only-of-type {\n",
       "        vertical-align: middle;\n",
       "    }\n",
       "\n",
       "    .dataframe tbody tr th {\n",
       "        vertical-align: top;\n",
       "    }\n",
       "\n",
       "    .dataframe thead th {\n",
       "        text-align: right;\n",
       "    }\n",
       "</style>\n",
       "<table border=\"1\" class=\"dataframe\">\n",
       "  <thead>\n",
       "    <tr style=\"text-align: right;\">\n",
       "      <th></th>\n",
       "      <th>count</th>\n",
       "    </tr>\n",
       "  </thead>\n",
       "  <tbody>\n",
       "    <tr>\n",
       "      <th>voice</th>\n",
       "      <td>42</td>\n",
       "    </tr>\n",
       "    <tr>\n",
       "      <th>said</th>\n",
       "      <td>35</td>\n",
       "    </tr>\n",
       "    <tr>\n",
       "      <th>dupin</th>\n",
       "      <td>29</td>\n",
       "    </tr>\n",
       "    <tr>\n",
       "      <th>l</th>\n",
       "      <td>28</td>\n",
       "    </tr>\n",
       "    <tr>\n",
       "      <th>house</th>\n",
       "      <td>27</td>\n",
       "    </tr>\n",
       "    <tr>\n",
       "      <th>head</th>\n",
       "      <td>25</td>\n",
       "    </tr>\n",
       "    <tr>\n",
       "      <th>door</th>\n",
       "      <td>23</td>\n",
       "    </tr>\n",
       "    <tr>\n",
       "      <th>room</th>\n",
       "      <td>22</td>\n",
       "    </tr>\n",
       "    <tr>\n",
       "      <th>frenchman</th>\n",
       "      <td>21</td>\n",
       "    </tr>\n",
       "    <tr>\n",
       "      <th>did</th>\n",
       "      <td>21</td>\n",
       "    </tr>\n",
       "    <tr>\n",
       "      <th>espanaye</th>\n",
       "      <td>20</td>\n",
       "    </tr>\n",
       "    <tr>\n",
       "      <th>party</th>\n",
       "      <td>19</td>\n",
       "    </tr>\n",
       "    <tr>\n",
       "      <th>s</th>\n",
       "      <td>19</td>\n",
       "    </tr>\n",
       "    <tr>\n",
       "      <th>old</th>\n",
       "      <td>19</td>\n",
       "    </tr>\n",
       "    <tr>\n",
       "      <th>words</th>\n",
       "      <td>18</td>\n",
       "    </tr>\n",
       "  </tbody>\n",
       "</table>\n",
       "</div>"
      ],
      "text/plain": [
       "           count\n",
       "voice         42\n",
       "said          35\n",
       "dupin         29\n",
       "l             28\n",
       "house         27\n",
       "head          25\n",
       "door          23\n",
       "room          22\n",
       "frenchman     21\n",
       "did           21\n",
       "espanaye      20\n",
       "party         19\n",
       "s             19\n",
       "old           19\n",
       "words         18"
      ]
     },
     "execution_count": 7,
     "metadata": {},
     "output_type": "execute_result"
    }
   ],
   "source": [
    "story = freq_words_title('THE MURDERS IN THE RUE MORGUE')\n",
    "story.head(15)"
   ]
  },
  {
   "cell_type": "markdown",
   "metadata": {},
   "source": [
    "This story is about a man named Dupin who rents a room in a strange house, where the last guest was a French student and so we can find out from the most frequent words calculated with vectorizer."
   ]
  },
  {
   "cell_type": "markdown",
   "metadata": {},
   "source": [
    "### by random number"
   ]
  },
  {
   "cell_type": "markdown",
   "metadata": {},
   "source": [
    "If we don't care about the title we can pick a random number from the dataframe above."
   ]
  },
  {
   "cell_type": "code",
   "execution_count": 8,
   "metadata": {},
   "outputs": [],
   "source": [
    "#pick a random number of a story\n",
    "#range 0-69\n",
    "\n",
    "def freq_words_random(number):\n",
    "    if number>-1 and number<70:\n",
    "        print('Most frequent words of:',df[df.index==number].title)\n",
    "\n",
    "        title_ind = pd.Index([number])\n",
    "\n",
    "        word_ind = X[title_ind,:].toarray()[0]>0 # only the words used in that story\n",
    "        title_word = np.asarray(vectorizer.get_feature_names())[word_ind]\n",
    "        df2 = pd.DataFrame(\n",
    "            np.asarray(X[title_ind,word_ind]).reshape(-1,),\n",
    "            index=title_word,columns=list(['count']))\n",
    "\n",
    "        return df2.sort_values(by='count',ascending=False)\n",
    "    else:\n",
    "        print('Choose a number between 0 and 69.')\n",
    "        return"
   ]
  },
  {
   "cell_type": "code",
   "execution_count": 9,
   "metadata": {},
   "outputs": [
    {
     "name": "stdout",
     "output_type": "stream",
     "text": [
      "Most frequent words of: 19    MS FOUND IN A BOTTLE\n",
      "Name: title, dtype: object\n"
     ]
    },
    {
     "data": {
      "text/html": [
       "<div>\n",
       "<style scoped>\n",
       "    .dataframe tbody tr th:only-of-type {\n",
       "        vertical-align: middle;\n",
       "    }\n",
       "\n",
       "    .dataframe tbody tr th {\n",
       "        vertical-align: top;\n",
       "    }\n",
       "\n",
       "    .dataframe thead th {\n",
       "        text-align: right;\n",
       "    }\n",
       "</style>\n",
       "<table border=\"1\" class=\"dataframe\">\n",
       "  <thead>\n",
       "    <tr style=\"text-align: right;\">\n",
       "      <th></th>\n",
       "      <th>count</th>\n",
       "    </tr>\n",
       "  </thead>\n",
       "  <tbody>\n",
       "    <tr>\n",
       "      <th>ship</th>\n",
       "      <td>27</td>\n",
       "    </tr>\n",
       "    <tr>\n",
       "      <th>like</th>\n",
       "      <td>12</td>\n",
       "    </tr>\n",
       "    <tr>\n",
       "      <th>sea</th>\n",
       "      <td>11</td>\n",
       "    </tr>\n",
       "    <tr>\n",
       "      <th>deck</th>\n",
       "      <td>10</td>\n",
       "    </tr>\n",
       "    <tr>\n",
       "      <th>wind</th>\n",
       "      <td>10</td>\n",
       "    </tr>\n",
       "  </tbody>\n",
       "</table>\n",
       "</div>"
      ],
      "text/plain": [
       "      count\n",
       "ship     27\n",
       "like     12\n",
       "sea      11\n",
       "deck     10\n",
       "wind     10"
      ]
     },
     "execution_count": 9,
     "metadata": {},
     "output_type": "execute_result"
    }
   ],
   "source": [
    "story = freq_words_random(19)\n",
    "story.head()"
   ]
  },
  {
   "cell_type": "markdown",
   "metadata": {},
   "source": [
    "From the title and the table it's easy to guess that this story is set on the sea."
   ]
  },
  {
   "cell_type": "markdown",
   "metadata": {},
   "source": [
    "## Comparing two stories"
   ]
  },
  {
   "cell_type": "markdown",
   "metadata": {},
   "source": [
    "Let's compare any two stories and see if they have any frequent words in common"
   ]
  },
  {
   "cell_type": "code",
   "execution_count": 10,
   "metadata": {},
   "outputs": [],
   "source": [
    "def compare(s1,s2):\n",
    "    story1 = freq_words_random(s1)\n",
    "    story2 = freq_words_random(s2)\n",
    "\n",
    "    compare_df = story1.join(story2,how='inner',lsuffix='_first', rsuffix='_second') #joined table\n",
    "    return compare_df.sort_values(by='count_first', ascending=False)"
   ]
  },
  {
   "cell_type": "code",
   "execution_count": 11,
   "metadata": {},
   "outputs": [
    {
     "name": "stdout",
     "output_type": "stream",
     "text": [
      "Most frequent words of: 19    MS FOUND IN A BOTTLE\n",
      "Name: title, dtype: object\n",
      "Most frequent words of: 34    THE DUC DE L’OMELETTE\n",
      "Name: title, dtype: object\n"
     ]
    },
    {
     "data": {
      "text/html": [
       "<div>\n",
       "<style scoped>\n",
       "    .dataframe tbody tr th:only-of-type {\n",
       "        vertical-align: middle;\n",
       "    }\n",
       "\n",
       "    .dataframe tbody tr th {\n",
       "        vertical-align: top;\n",
       "    }\n",
       "\n",
       "    .dataframe thead th {\n",
       "        text-align: right;\n",
       "    }\n",
       "</style>\n",
       "<table border=\"1\" class=\"dataframe\">\n",
       "  <thead>\n",
       "    <tr style=\"text-align: right;\">\n",
       "      <th></th>\n",
       "      <th>count_first</th>\n",
       "      <th>count_second</th>\n",
       "    </tr>\n",
       "  </thead>\n",
       "  <tbody>\n",
       "    <tr>\n",
       "      <th>like</th>\n",
       "      <td>12</td>\n",
       "      <td>2</td>\n",
       "    </tr>\n",
       "    <tr>\n",
       "      <th>little</th>\n",
       "      <td>7</td>\n",
       "      <td>1</td>\n",
       "    </tr>\n",
       "    <tr>\n",
       "      <th>moment</th>\n",
       "      <td>6</td>\n",
       "      <td>1</td>\n",
       "    </tr>\n",
       "    <tr>\n",
       "      <th>eyes</th>\n",
       "      <td>5</td>\n",
       "      <td>3</td>\n",
       "    </tr>\n",
       "    <tr>\n",
       "      <th>age</th>\n",
       "      <td>5</td>\n",
       "      <td>1</td>\n",
       "    </tr>\n",
       "  </tbody>\n",
       "</table>\n",
       "</div>"
      ],
      "text/plain": [
       "        count_first  count_second\n",
       "like             12             2\n",
       "little            7             1\n",
       "moment            6             1\n",
       "eyes              5             3\n",
       "age               5             1"
      ]
     },
     "execution_count": 11,
     "metadata": {},
     "output_type": "execute_result"
    }
   ],
   "source": [
    "compare(19,34).head()"
   ]
  },
  {
   "cell_type": "markdown",
   "metadata": {},
   "source": [
    "These two clearly don't have much in common."
   ]
  },
  {
   "cell_type": "markdown",
   "metadata": {},
   "source": [
    "## Finding most and least similar story"
   ]
  },
  {
   "cell_type": "markdown",
   "metadata": {},
   "source": [
    "Given we have read a story of E.A. Poe and want to decide on another one, we can look for most similar or least similar - depending on whether we liked the first one. Here I'm looking for comparison to one I've read recently - 'The Murders in the Rue Morgue'."
   ]
  },
  {
   "cell_type": "markdown",
   "metadata": {},
   "source": [
    "## Length of each story"
   ]
  },
  {
   "cell_type": "code",
   "execution_count": 12,
   "metadata": {},
   "outputs": [
    {
     "data": {
      "text/html": [
       "<div>\n",
       "<style scoped>\n",
       "    .dataframe tbody tr th:only-of-type {\n",
       "        vertical-align: middle;\n",
       "    }\n",
       "\n",
       "    .dataframe tbody tr th {\n",
       "        vertical-align: top;\n",
       "    }\n",
       "\n",
       "    .dataframe thead th {\n",
       "        text-align: right;\n",
       "    }\n",
       "</style>\n",
       "<table border=\"1\" class=\"dataframe\">\n",
       "  <thead>\n",
       "    <tr style=\"text-align: right;\">\n",
       "      <th></th>\n",
       "      <th>title</th>\n",
       "      <th>classification</th>\n",
       "      <th>story_length</th>\n",
       "    </tr>\n",
       "  </thead>\n",
       "  <tbody>\n",
       "    <tr>\n",
       "      <th>66</th>\n",
       "      <td>THE MYSTERY OF MARIE ROGET</td>\n",
       "      <td>Detective_fiction</td>\n",
       "      <td>19941</td>\n",
       "    </tr>\n",
       "    <tr>\n",
       "      <th>68</th>\n",
       "      <td>THE UNPARALLELED ADVENTURES OF ONE HANS PFAAL</td>\n",
       "      <td>Hoax,Science_fiction</td>\n",
       "      <td>18754</td>\n",
       "    </tr>\n",
       "    <tr>\n",
       "      <th>45</th>\n",
       "      <td>THE MURDERS IN THE RUE MORGUE</td>\n",
       "      <td>Detective_fiction</td>\n",
       "      <td>13922</td>\n",
       "    </tr>\n",
       "    <tr>\n",
       "      <th>37</th>\n",
       "      <td>THE GOLD-BUG</td>\n",
       "      <td>Adventure</td>\n",
       "      <td>13846</td>\n",
       "    </tr>\n",
       "    <tr>\n",
       "      <th>52</th>\n",
       "      <td>THE SPECTACLES</td>\n",
       "      <td>Humor</td>\n",
       "      <td>9527</td>\n",
       "    </tr>\n",
       "    <tr>\n",
       "      <th>63</th>\n",
       "      <td>MAELZEL’S CHESS-PLAYER</td>\n",
       "      <td>Essay</td>\n",
       "      <td>9435</td>\n",
       "    </tr>\n",
       "    <tr>\n",
       "      <th>60</th>\n",
       "      <td>WHY THE LITTLE FRENCHMAN WEARS HIS HAND IN A S...</td>\n",
       "      <td>Humor</td>\n",
       "      <td>8552</td>\n",
       "    </tr>\n",
       "    <tr>\n",
       "      <th>61</th>\n",
       "      <td>WILLIAM WILSON</td>\n",
       "      <td>Horror</td>\n",
       "      <td>8079</td>\n",
       "    </tr>\n",
       "    <tr>\n",
       "      <th>41</th>\n",
       "      <td>THE LITERARY LIFE OF  THINGUM BOB, ESQ</td>\n",
       "      <td>Humor</td>\n",
       "      <td>7761</td>\n",
       "    </tr>\n",
       "    <tr>\n",
       "      <th>36</th>\n",
       "      <td>THE FALL OF THE HOUSE OF USHER</td>\n",
       "      <td>Horror</td>\n",
       "      <td>7215</td>\n",
       "    </tr>\n",
       "  </tbody>\n",
       "</table>\n",
       "</div>"
      ],
      "text/plain": [
       "                                                title        classification  \\\n",
       "66                         THE MYSTERY OF MARIE ROGET     Detective_fiction   \n",
       "68      THE UNPARALLELED ADVENTURES OF ONE HANS PFAAL  Hoax,Science_fiction   \n",
       "45                      THE MURDERS IN THE RUE MORGUE     Detective_fiction   \n",
       "37                                       THE GOLD-BUG             Adventure   \n",
       "52                                     THE SPECTACLES                 Humor   \n",
       "63                             MAELZEL’S CHESS-PLAYER                 Essay   \n",
       "60  WHY THE LITTLE FRENCHMAN WEARS HIS HAND IN A S...                 Humor   \n",
       "61                                     WILLIAM WILSON                Horror   \n",
       "41             THE LITERARY LIFE OF  THINGUM BOB, ESQ                 Humor   \n",
       "36                     THE FALL OF THE HOUSE OF USHER                Horror   \n",
       "\n",
       "    story_length  \n",
       "66         19941  \n",
       "68         18754  \n",
       "45         13922  \n",
       "37         13846  \n",
       "52          9527  \n",
       "63          9435  \n",
       "60          8552  \n",
       "61          8079  \n",
       "41          7761  \n",
       "36          7215  "
      ]
     },
     "execution_count": 12,
     "metadata": {},
     "output_type": "execute_result"
    }
   ],
   "source": [
    "tokenizer = vectorizer.build_tokenizer()\n",
    "def get_story_length(row):\n",
    "    return len(tokenizer(row['text']))\n",
    "\n",
    "df['story_length'] = df.apply(get_story_length,axis=1)\n",
    "df.sort_values(by='story_length', ascending=False)[['title','classification','story_length']][0:10]"
   ]
  },
  {
   "cell_type": "code",
   "execution_count": 13,
   "metadata": {},
   "outputs": [
    {
     "data": {
      "text/plain": [
       "<matplotlib.legend.Legend at 0x12fad06d130>"
      ]
     },
     "execution_count": 13,
     "metadata": {},
     "output_type": "execute_result"
    },
    {
     "data": {
      "image/png": "[encoded data removed]",
      "text/plain": [
       "<Figure size 1080x360 with 1 Axes>"
      ]
     },
     "metadata": {
      "needs_background": "light"
     },
     "output_type": "display_data"
    }
   ],
   "source": [
    "plt.figure(figsize=(15,5))\n",
    "\n",
    "plt.hist(df['story_length'], 40,  color='lightblue', edgecolor='white')\n",
    "plt.axvline(x=df['story_length'][df['title']=='THE MURDERS IN THE RUE MORGUE'].values[0], color='blue',ls='--',label='The Murders in the Rue Morgue')\n",
    "\n",
    "plt.title('Distribution of story length')\n",
    "plt.xlabel('# of words')\n",
    "plt.ylabel('% of stories')\n",
    "plt.legend()"
   ]
  },
  {
   "cell_type": "markdown",
   "metadata": {},
   "source": [
    "Most stories consist of up to 5000 words. How many pages would that be?   "
   ]
  },
  {
   "cell_type": "markdown",
   "metadata": {},
   "source": [
    "1000 words of normalized text (Times New Roman, 12 pt font and 1.5 spacing) is about 3 pages."
   ]
  },
  {
   "cell_type": "markdown",
   "metadata": {},
   "source": [
    "So we know where to look if we want to find a story of similar length. But in most cases this isn't the criteria. We usually care for the content, so the meaning of words comes first. We can now compare two stories by knowing their titles or picking a random number. But I want to look throught the whole data I have and  don't know the title of each story written by E.A. Poe. So, to find the best matches it's necessary to compute distance between each story."
   ]
  },
  {
   "cell_type": "markdown",
   "metadata": {},
   "source": [
    "### Euclidean distance"
   ]
  },
  {
   "cell_type": "code",
   "execution_count": 14,
   "metadata": {},
   "outputs": [
    {
     "data": {
      "text/html": [
       "<div>\n",
       "<style scoped>\n",
       "    .dataframe tbody tr th:only-of-type {\n",
       "        vertical-align: middle;\n",
       "    }\n",
       "\n",
       "    .dataframe tbody tr th {\n",
       "        vertical-align: top;\n",
       "    }\n",
       "\n",
       "    .dataframe thead th {\n",
       "        text-align: right;\n",
       "    }\n",
       "</style>\n",
       "<table border=\"1\" class=\"dataframe\">\n",
       "  <thead>\n",
       "    <tr style=\"text-align: right;\">\n",
       "      <th></th>\n",
       "      <th>title</th>\n",
       "      <th>text</th>\n",
       "      <th>wikipedia_title</th>\n",
       "      <th>publication_date</th>\n",
       "      <th>first_published_in</th>\n",
       "      <th>classification</th>\n",
       "      <th>notes</th>\n",
       "      <th>normalized_date</th>\n",
       "      <th>story_length</th>\n",
       "      <th>dist-eucl</th>\n",
       "    </tr>\n",
       "  </thead>\n",
       "  <tbody>\n",
       "    <tr>\n",
       "      <th>45</th>\n",
       "      <td>THE MURDERS IN THE RUE MORGUE</td>\n",
       "      <td>What song the Syrens sang, or what name Achill...</td>\n",
       "      <td>The Murders in the Rue Morgue</td>\n",
       "      <td>April 1841</td>\n",
       "      <td>Graham's Magazine</td>\n",
       "      <td>Detective_fiction</td>\n",
       "      <td>?</td>\n",
       "      <td>April 1841</td>\n",
       "      <td>13922</td>\n",
       "      <td>0.000000</td>\n",
       "    </tr>\n",
       "    <tr>\n",
       "      <th>54</th>\n",
       "      <td>THE SYSTEM OF DOCTOR TARR AND PROFESSOR FETHER</td>\n",
       "      <td>DURING the autumn of 18—, while on a tour thro...</td>\n",
       "      <td>The System of Doctor Tarr and Professor Fether</td>\n",
       "      <td>November 1845</td>\n",
       "      <td>Graham's Magazine</td>\n",
       "      <td>Humor</td>\n",
       "      <td>?</td>\n",
       "      <td>November 1845</td>\n",
       "      <td>6931</td>\n",
       "      <td>163.508410</td>\n",
       "    </tr>\n",
       "    <tr>\n",
       "      <th>61</th>\n",
       "      <td>WILLIAM WILSON</td>\n",
       "      <td>What say of it? what say of CONSCIENCE grim, T...</td>\n",
       "      <td>William Wilson</td>\n",
       "      <td>October 1839</td>\n",
       "      <td>The Gift: A Christmas and New Year's Present f...</td>\n",
       "      <td>Horror</td>\n",
       "      <td>?</td>\n",
       "      <td>October 1839</td>\n",
       "      <td>8079</td>\n",
       "      <td>163.856645</td>\n",
       "    </tr>\n",
       "    <tr>\n",
       "      <th>51</th>\n",
       "      <td>THE PURLOINED LETTER</td>\n",
       "      <td>Nil sapientiae odiosius acumine nimio. Seneca....</td>\n",
       "      <td>The Purloined Letter</td>\n",
       "      <td>December, 1844</td>\n",
       "      <td>The Gift: A Christmas and New Year's Present</td>\n",
       "      <td>Detective_fiction</td>\n",
       "      <td>?</td>\n",
       "      <td>December 1844</td>\n",
       "      <td>7100</td>\n",
       "      <td>164.131045</td>\n",
       "    </tr>\n",
       "    <tr>\n",
       "      <th>36</th>\n",
       "      <td>THE FALL OF THE HOUSE OF USHER</td>\n",
       "      <td>Son coeur est un luth suspendu; Sitôt qu’on le...</td>\n",
       "      <td>The Fall of the House of Usher</td>\n",
       "      <td>September 1839</td>\n",
       "      <td>Burton's Gentleman's Magazine</td>\n",
       "      <td>Horror</td>\n",
       "      <td>?</td>\n",
       "      <td>September 1839</td>\n",
       "      <td>7215</td>\n",
       "      <td>164.648110</td>\n",
       "    </tr>\n",
       "  </tbody>\n",
       "</table>\n",
       "</div>"
      ],
      "text/plain": [
       "                                             title  \\\n",
       "45                   THE MURDERS IN THE RUE MORGUE   \n",
       "54  THE SYSTEM OF DOCTOR TARR AND PROFESSOR FETHER   \n",
       "61                                  WILLIAM WILSON   \n",
       "51                            THE PURLOINED LETTER   \n",
       "36                  THE FALL OF THE HOUSE OF USHER   \n",
       "\n",
       "                                                 text  \\\n",
       "45  What song the Syrens sang, or what name Achill...   \n",
       "54  DURING the autumn of 18—, while on a tour thro...   \n",
       "61  What say of it? what say of CONSCIENCE grim, T...   \n",
       "51  Nil sapientiae odiosius acumine nimio. Seneca....   \n",
       "36  Son coeur est un luth suspendu; Sitôt qu’on le...   \n",
       "\n",
       "                                   wikipedia_title publication_date  \\\n",
       "45                   The Murders in the Rue Morgue       April 1841   \n",
       "54  The System of Doctor Tarr and Professor Fether    November 1845   \n",
       "61                                  William Wilson     October 1839   \n",
       "51                            The Purloined Letter   December, 1844   \n",
       "36                  The Fall of the House of Usher   September 1839   \n",
       "\n",
       "                                   first_published_in     classification  \\\n",
       "45                                  Graham's Magazine  Detective_fiction   \n",
       "54                                  Graham's Magazine              Humor   \n",
       "61  The Gift: A Christmas and New Year's Present f...             Horror   \n",
       "51       The Gift: A Christmas and New Year's Present  Detective_fiction   \n",
       "36                      Burton's Gentleman's Magazine             Horror   \n",
       "\n",
       "   notes normalized_date  story_length   dist-eucl  \n",
       "45     ?      April 1841         13922    0.000000  \n",
       "54     ?   November 1845          6931  163.508410  \n",
       "61     ?    October 1839          8079  163.856645  \n",
       "51     ?   December 1844          7100  164.131045  \n",
       "36     ?  September 1839          7215  164.648110  "
      ]
     },
     "execution_count": 14,
     "metadata": {},
     "output_type": "execute_result"
    }
   ],
   "source": [
    "from sklearn.metrics import pairwise_distances\n",
    "\n",
    "dist = pairwise_distances(X[:,:],X[df[df['title']=='THE MURDERS IN THE RUE MORGUE'].index,:],metric='euclidean',n_jobs=-1)\n",
    "\n",
    "df['dist-eucl'] = dist[:,0]\n",
    "df.sort_values(by='dist-eucl',ascending=True)[0:5] "
   ]
  },
  {
   "cell_type": "markdown",
   "metadata": {},
   "source": [
    "I liked my story and I want to read a similar one - in that case I should pick e.g. 'THE SYSTEM OF DOCTOR TARR AND PROFESSOR FETHER'"
   ]
  },
  {
   "cell_type": "markdown",
   "metadata": {},
   "source": [
    "Let's look up similar words."
   ]
  },
  {
   "cell_type": "code",
   "execution_count": 15,
   "metadata": {},
   "outputs": [
    {
     "name": "stdout",
     "output_type": "stream",
     "text": [
      "Most frequent words of: 45    THE MURDERS IN THE RUE MORGUE\n",
      "Name: title, dtype: object\n",
      "Most frequent words of: 54    THE SYSTEM OF DOCTOR TARR AND PROFESSOR FETHER\n",
      "Name: title, dtype: object\n"
     ]
    },
    {
     "data": {
      "text/html": [
       "<div>\n",
       "<style scoped>\n",
       "    .dataframe tbody tr th:only-of-type {\n",
       "        vertical-align: middle;\n",
       "    }\n",
       "\n",
       "    .dataframe tbody tr th {\n",
       "        vertical-align: top;\n",
       "    }\n",
       "\n",
       "    .dataframe thead th {\n",
       "        text-align: right;\n",
       "    }\n",
       "</style>\n",
       "<table border=\"1\" class=\"dataframe\">\n",
       "  <thead>\n",
       "    <tr style=\"text-align: right;\">\n",
       "      <th></th>\n",
       "      <th>count_first</th>\n",
       "      <th>count_second</th>\n",
       "    </tr>\n",
       "  </thead>\n",
       "  <tbody>\n",
       "    <tr>\n",
       "      <th>voice</th>\n",
       "      <td>42</td>\n",
       "      <td>5</td>\n",
       "    </tr>\n",
       "    <tr>\n",
       "      <th>said</th>\n",
       "      <td>35</td>\n",
       "      <td>33</td>\n",
       "    </tr>\n",
       "    <tr>\n",
       "      <th>house</th>\n",
       "      <td>27</td>\n",
       "      <td>8</td>\n",
       "    </tr>\n",
       "    <tr>\n",
       "      <th>head</th>\n",
       "      <td>25</td>\n",
       "      <td>6</td>\n",
       "    </tr>\n",
       "    <tr>\n",
       "      <th>door</th>\n",
       "      <td>23</td>\n",
       "      <td>3</td>\n",
       "    </tr>\n",
       "    <tr>\n",
       "      <th>...</th>\n",
       "      <td>...</td>\n",
       "      <td>...</td>\n",
       "    </tr>\n",
       "    <tr>\n",
       "      <th>sprang</th>\n",
       "      <td>1</td>\n",
       "      <td>1</td>\n",
       "    </tr>\n",
       "    <tr>\n",
       "      <th>bade</th>\n",
       "      <td>1</td>\n",
       "      <td>1</td>\n",
       "    </tr>\n",
       "    <tr>\n",
       "      <th>bare</th>\n",
       "      <td>1</td>\n",
       "      <td>1</td>\n",
       "    </tr>\n",
       "    <tr>\n",
       "      <th>spirits</th>\n",
       "      <td>1</td>\n",
       "      <td>1</td>\n",
       "    </tr>\n",
       "    <tr>\n",
       "      <th>18</th>\n",
       "      <td>1</td>\n",
       "      <td>1</td>\n",
       "    </tr>\n",
       "  </tbody>\n",
       "</table>\n",
       "<p>606 rows × 2 columns</p>\n",
       "</div>"
      ],
      "text/plain": [
       "         count_first  count_second\n",
       "voice             42             5\n",
       "said              35            33\n",
       "house             27             8\n",
       "head              25             6\n",
       "door              23             3\n",
       "...              ...           ...\n",
       "sprang             1             1\n",
       "bade               1             1\n",
       "bare               1             1\n",
       "spirits            1             1\n",
       "18                 1             1\n",
       "\n",
       "[606 rows x 2 columns]"
      ]
     },
     "execution_count": 15,
     "metadata": {},
     "output_type": "execute_result"
    }
   ],
   "source": [
    "compare(45,54)"
   ]
  },
  {
   "cell_type": "markdown",
   "metadata": {},
   "source": [
    "The word 'said' is frequent in both but it's not very meaningful and probably shows up in every story with dialogue..."
   ]
  },
  {
   "cell_type": "markdown",
   "metadata": {},
   "source": [
    "Let's give the Euclidean distance another try. What if I didn't like my picked story?"
   ]
  },
  {
   "cell_type": "code",
   "execution_count": 16,
   "metadata": {},
   "outputs": [
    {
     "data": {
      "text/html": [
       "<div>\n",
       "<style scoped>\n",
       "    .dataframe tbody tr th:only-of-type {\n",
       "        vertical-align: middle;\n",
       "    }\n",
       "\n",
       "    .dataframe tbody tr th {\n",
       "        vertical-align: top;\n",
       "    }\n",
       "\n",
       "    .dataframe thead th {\n",
       "        text-align: right;\n",
       "    }\n",
       "</style>\n",
       "<table border=\"1\" class=\"dataframe\">\n",
       "  <thead>\n",
       "    <tr style=\"text-align: right;\">\n",
       "      <th></th>\n",
       "      <th>title</th>\n",
       "      <th>text</th>\n",
       "      <th>wikipedia_title</th>\n",
       "      <th>publication_date</th>\n",
       "      <th>first_published_in</th>\n",
       "      <th>classification</th>\n",
       "      <th>notes</th>\n",
       "      <th>normalized_date</th>\n",
       "      <th>story_length</th>\n",
       "      <th>dist-eucl</th>\n",
       "    </tr>\n",
       "  </thead>\n",
       "  <tbody>\n",
       "    <tr>\n",
       "      <th>66</th>\n",
       "      <td>THE MYSTERY OF MARIE ROGET</td>\n",
       "      <td>A SEQUEL TO “THE MURDERS IN THE RUE MORGUE.”  ...</td>\n",
       "      <td>?</td>\n",
       "      <td>November 1842</td>\n",
       "      <td>?</td>\n",
       "      <td>Detective_fiction</td>\n",
       "      <td>?</td>\n",
       "      <td>November 1842</td>\n",
       "      <td>19941</td>\n",
       "      <td>249.142529</td>\n",
       "    </tr>\n",
       "    <tr>\n",
       "      <th>68</th>\n",
       "      <td>THE UNPARALLELED ADVENTURES OF ONE HANS PFAAL</td>\n",
       "      <td>BY late accounts from Rotterdam, that city see...</td>\n",
       "      <td>?</td>\n",
       "      <td>June 1835</td>\n",
       "      <td>?</td>\n",
       "      <td>Hoax,Science_fiction</td>\n",
       "      <td>?</td>\n",
       "      <td>June 1835</td>\n",
       "      <td>18754</td>\n",
       "      <td>240.937751</td>\n",
       "    </tr>\n",
       "    <tr>\n",
       "      <th>63</th>\n",
       "      <td>MAELZEL’S CHESS-PLAYER</td>\n",
       "      <td>PERHAPS no exhibition of the kind has ever eli...</td>\n",
       "      <td>?</td>\n",
       "      <td>April 1836</td>\n",
       "      <td>?</td>\n",
       "      <td>Essay</td>\n",
       "      <td>?</td>\n",
       "      <td>April 1836</td>\n",
       "      <td>9435</td>\n",
       "      <td>222.018017</td>\n",
       "    </tr>\n",
       "    <tr>\n",
       "      <th>60</th>\n",
       "      <td>WHY THE LITTLE FRENCHMAN WEARS HIS HAND IN A S...</td>\n",
       "      <td>IT’S on my visiting cards sure enough (and it’...</td>\n",
       "      <td>Why the Little Frenchman Wears His Hand in a S...</td>\n",
       "      <td>August 17, 1839</td>\n",
       "      <td>Tales of the Grotesque and Arabesque</td>\n",
       "      <td>Humor</td>\n",
       "      <td>?</td>\n",
       "      <td>August 1839</td>\n",
       "      <td>8552</td>\n",
       "      <td>216.624098</td>\n",
       "    </tr>\n",
       "    <tr>\n",
       "      <th>37</th>\n",
       "      <td>THE GOLD-BUG</td>\n",
       "      <td>What ho! what ho! this fellow is dancing mad! ...</td>\n",
       "      <td>The Gold-Bug</td>\n",
       "      <td>June 1843</td>\n",
       "      <td>Dollar Newspaper</td>\n",
       "      <td>Adventure</td>\n",
       "      <td>?</td>\n",
       "      <td>June 1843</td>\n",
       "      <td>13846</td>\n",
       "      <td>212.499412</td>\n",
       "    </tr>\n",
       "  </tbody>\n",
       "</table>\n",
       "</div>"
      ],
      "text/plain": [
       "                                                title  \\\n",
       "66                         THE MYSTERY OF MARIE ROGET   \n",
       "68      THE UNPARALLELED ADVENTURES OF ONE HANS PFAAL   \n",
       "63                             MAELZEL’S CHESS-PLAYER   \n",
       "60  WHY THE LITTLE FRENCHMAN WEARS HIS HAND IN A S...   \n",
       "37                                       THE GOLD-BUG   \n",
       "\n",
       "                                                 text  \\\n",
       "66  A SEQUEL TO “THE MURDERS IN THE RUE MORGUE.”  ...   \n",
       "68  BY late accounts from Rotterdam, that city see...   \n",
       "63  PERHAPS no exhibition of the kind has ever eli...   \n",
       "60  IT’S on my visiting cards sure enough (and it’...   \n",
       "37  What ho! what ho! this fellow is dancing mad! ...   \n",
       "\n",
       "                                      wikipedia_title publication_date  \\\n",
       "66                                                  ?    November 1842   \n",
       "68                                                  ?        June 1835   \n",
       "63                                                  ?       April 1836   \n",
       "60  Why the Little Frenchman Wears His Hand in a S...  August 17, 1839   \n",
       "37                                       The Gold-Bug        June 1843   \n",
       "\n",
       "                      first_published_in        classification notes  \\\n",
       "66                                     ?     Detective_fiction     ?   \n",
       "68                                     ?  Hoax,Science_fiction     ?   \n",
       "63                                     ?                 Essay     ?   \n",
       "60  Tales of the Grotesque and Arabesque                 Humor     ?   \n",
       "37                      Dollar Newspaper             Adventure     ?   \n",
       "\n",
       "   normalized_date  story_length   dist-eucl  \n",
       "66   November 1842         19941  249.142529  \n",
       "68       June 1835         18754  240.937751  \n",
       "63      April 1836          9435  222.018017  \n",
       "60     August 1839          8552  216.624098  \n",
       "37       June 1843         13846  212.499412  "
      ]
     },
     "execution_count": 16,
     "metadata": {},
     "output_type": "execute_result"
    }
   ],
   "source": [
    "df.sort_values(by='dist-eucl',ascending=False)[0:5] "
   ]
  },
  {
   "cell_type": "markdown",
   "metadata": {},
   "source": [
    "In that case I could go as \"far\" as possible and turns out I should pick up 'THE MYSTERY OF MARIE ROGET' which, surprisingly, is a sequel to the one I've read! Didn't expect that for sure!"
   ]
  },
  {
   "cell_type": "code",
   "execution_count": 17,
   "metadata": {},
   "outputs": [
    {
     "name": "stdout",
     "output_type": "stream",
     "text": [
      "Most frequent words of: 45    THE MURDERS IN THE RUE MORGUE\n",
      "Name: title, dtype: object\n",
      "Most frequent words of: 66    THE MYSTERY OF MARIE ROGET\n",
      "Name: title, dtype: object\n"
     ]
    },
    {
     "data": {
      "text/html": [
       "<div>\n",
       "<style scoped>\n",
       "    .dataframe tbody tr th:only-of-type {\n",
       "        vertical-align: middle;\n",
       "    }\n",
       "\n",
       "    .dataframe tbody tr th {\n",
       "        vertical-align: top;\n",
       "    }\n",
       "\n",
       "    .dataframe thead th {\n",
       "        text-align: right;\n",
       "    }\n",
       "</style>\n",
       "<table border=\"1\" class=\"dataframe\">\n",
       "  <thead>\n",
       "    <tr style=\"text-align: right;\">\n",
       "      <th></th>\n",
       "      <th>count_first</th>\n",
       "      <th>count_second</th>\n",
       "    </tr>\n",
       "  </thead>\n",
       "  <tbody>\n",
       "    <tr>\n",
       "      <th>voice</th>\n",
       "      <td>42</td>\n",
       "      <td>1</td>\n",
       "    </tr>\n",
       "    <tr>\n",
       "      <th>said</th>\n",
       "      <td>35</td>\n",
       "      <td>12</td>\n",
       "    </tr>\n",
       "    <tr>\n",
       "      <th>dupin</th>\n",
       "      <td>29</td>\n",
       "      <td>12</td>\n",
       "    </tr>\n",
       "    <tr>\n",
       "      <th>l</th>\n",
       "      <td>28</td>\n",
       "      <td>32</td>\n",
       "    </tr>\n",
       "    <tr>\n",
       "      <th>house</th>\n",
       "      <td>27</td>\n",
       "      <td>8</td>\n",
       "    </tr>\n",
       "    <tr>\n",
       "      <th>...</th>\n",
       "      <td>...</td>\n",
       "      <td>...</td>\n",
       "    </tr>\n",
       "    <tr>\n",
       "      <th>advantages</th>\n",
       "      <td>1</td>\n",
       "      <td>2</td>\n",
       "    </tr>\n",
       "    <tr>\n",
       "      <th>vicinity</th>\n",
       "      <td>1</td>\n",
       "      <td>12</td>\n",
       "    </tr>\n",
       "    <tr>\n",
       "      <th>violence</th>\n",
       "      <td>1</td>\n",
       "      <td>8</td>\n",
       "    </tr>\n",
       "    <tr>\n",
       "      <th>actually</th>\n",
       "      <td>1</td>\n",
       "      <td>1</td>\n",
       "    </tr>\n",
       "    <tr>\n",
       "      <th>18</th>\n",
       "      <td>1</td>\n",
       "      <td>4</td>\n",
       "    </tr>\n",
       "  </tbody>\n",
       "</table>\n",
       "<p>1049 rows × 2 columns</p>\n",
       "</div>"
      ],
      "text/plain": [
       "            count_first  count_second\n",
       "voice                42             1\n",
       "said                 35            12\n",
       "dupin                29            12\n",
       "l                    28            32\n",
       "house                27             8\n",
       "...                 ...           ...\n",
       "advantages            1             2\n",
       "vicinity              1            12\n",
       "violence              1             8\n",
       "actually              1             1\n",
       "18                    1             4\n",
       "\n",
       "[1049 rows x 2 columns]"
      ]
     },
     "execution_count": 17,
     "metadata": {},
     "output_type": "execute_result"
    }
   ],
   "source": [
    "compare(45,66)"
   ]
  },
  {
   "cell_type": "markdown",
   "metadata": {},
   "source": [
    "The result is expected, since it's a totally different story it shouldn't have many words in common. Still, \"said\" or \"did\" isn't very meaningful to me."
   ]
  },
  {
   "cell_type": "markdown",
   "metadata": {},
   "source": [
    "### TF-IDF"
   ]
  },
  {
   "cell_type": "markdown",
   "metadata": {},
   "source": [
    "Since the first method gave me a weird result, now I'll try to compute TF-IDF and see what it tells me."
   ]
  },
  {
   "cell_type": "markdown",
   "metadata": {},
   "source": [
    "In vectorizer my option for stop_words was 'english' but still I could see many words occuring frequently but having little meaning e.g. \"said\" or \"did\". TF-IDF helps eliminate those extremely frequent words by penalizing too common words. This should give better results for similar stories."
   ]
  },
  {
   "cell_type": "code",
   "execution_count": 18,
   "metadata": {},
   "outputs": [],
   "source": [
    "from sklearn.feature_extraction.text import TfidfTransformer\n",
    "\n",
    "vectorizer = CountVectorizer(analyzer='word',ngram_range=(1,1),max_df=1.,min_df=1,stop_words='english',token_pattern=r\"(?u)\\b\\w+\\b\") \n",
    "X=vectorizer.fit_transform(df['text'])\n",
    "\n",
    "tfidf=TfidfTransformer(smooth_idf=False, norm=None)\n",
    "Y = tfidf.fit_transform(X)"
   ]
  },
  {
   "cell_type": "code",
   "execution_count": 19,
   "metadata": {},
   "outputs": [
    {
     "data": {
      "text/html": [
       "<div>\n",
       "<style scoped>\n",
       "    .dataframe tbody tr th:only-of-type {\n",
       "        vertical-align: middle;\n",
       "    }\n",
       "\n",
       "    .dataframe tbody tr th {\n",
       "        vertical-align: top;\n",
       "    }\n",
       "\n",
       "    .dataframe thead th {\n",
       "        text-align: right;\n",
       "    }\n",
       "</style>\n",
       "<table border=\"1\" class=\"dataframe\">\n",
       "  <thead>\n",
       "    <tr style=\"text-align: right;\">\n",
       "      <th></th>\n",
       "      <th>title</th>\n",
       "      <th>dist-eucl-TF-IDF</th>\n",
       "    </tr>\n",
       "  </thead>\n",
       "  <tbody>\n",
       "    <tr>\n",
       "      <th>45</th>\n",
       "      <td>THE MURDERS IN THE RUE MORGUE</td>\n",
       "      <td>0.000000</td>\n",
       "    </tr>\n",
       "    <tr>\n",
       "      <th>27</th>\n",
       "      <td>THE BLACK CAT</td>\n",
       "      <td>459.103085</td>\n",
       "    </tr>\n",
       "    <tr>\n",
       "      <th>55</th>\n",
       "      <td>THE TELL-TALE HEART</td>\n",
       "      <td>461.032272</td>\n",
       "    </tr>\n",
       "    <tr>\n",
       "      <th>53</th>\n",
       "      <td>THE SPHINX</td>\n",
       "      <td>461.160117</td>\n",
       "    </tr>\n",
       "    <tr>\n",
       "      <th>42</th>\n",
       "      <td>THE MAN OF THE CROWD</td>\n",
       "      <td>463.579751</td>\n",
       "    </tr>\n",
       "    <tr>\n",
       "      <th>47</th>\n",
       "      <td>THE OVAL PORTRAIT</td>\n",
       "      <td>463.866208</td>\n",
       "    </tr>\n",
       "    <tr>\n",
       "      <th>22</th>\n",
       "      <td>SHADOW—A PARABLE</td>\n",
       "      <td>463.877372</td>\n",
       "    </tr>\n",
       "    <tr>\n",
       "      <th>38</th>\n",
       "      <td>THE IMP OF THE PERVERSE</td>\n",
       "      <td>464.040200</td>\n",
       "    </tr>\n",
       "    <tr>\n",
       "      <th>39</th>\n",
       "      <td>THE ISLAND OF THE FAY</td>\n",
       "      <td>467.578655</td>\n",
       "    </tr>\n",
       "    <tr>\n",
       "      <th>62</th>\n",
       "      <td>* PHILOSOPHY OF FURNITURE</td>\n",
       "      <td>468.078572</td>\n",
       "    </tr>\n",
       "  </tbody>\n",
       "</table>\n",
       "</div>"
      ],
      "text/plain": [
       "                            title  dist-eucl-TF-IDF\n",
       "45  THE MURDERS IN THE RUE MORGUE          0.000000\n",
       "27                  THE BLACK CAT        459.103085\n",
       "55            THE TELL-TALE HEART        461.032272\n",
       "53                     THE SPHINX        461.160117\n",
       "42           THE MAN OF THE CROWD        463.579751\n",
       "47              THE OVAL PORTRAIT        463.866208\n",
       "22               SHADOW—A PARABLE        463.877372\n",
       "38        THE IMP OF THE PERVERSE        464.040200\n",
       "39          THE ISLAND OF THE FAY        467.578655\n",
       "62      * PHILOSOPHY OF FURNITURE        468.078572"
      ]
     },
     "execution_count": 19,
     "metadata": {},
     "output_type": "execute_result"
    }
   ],
   "source": [
    "#recomputing distances for TF_IDF\n",
    "dist = pairwise_distances(Y[:,:],Y[df[df['title']=='THE MURDERS IN THE RUE MORGUE'].index,:],metric='euclidean',n_jobs=-1)\n",
    "\n",
    "df['dist-eucl-TF-IDF'] = dist[:,0]\n",
    "df.sort_values(by='dist-eucl-TF-IDF',ascending=True)[['title','dist-eucl-TF-IDF']][0:10]"
   ]
  },
  {
   "cell_type": "markdown",
   "metadata": {},
   "source": [
    "Now the story I should read according to first method here isn't even in the top 10. However, 'THE BLACK CAT' was the 5th most similar story before and now it's no.1."
   ]
  },
  {
   "cell_type": "markdown",
   "metadata": {},
   "source": [
    "What about the most different one?"
   ]
  },
  {
   "cell_type": "code",
   "execution_count": 20,
   "metadata": {},
   "outputs": [
    {
     "data": {
      "text/html": [
       "<div>\n",
       "<style scoped>\n",
       "    .dataframe tbody tr th:only-of-type {\n",
       "        vertical-align: middle;\n",
       "    }\n",
       "\n",
       "    .dataframe tbody tr th {\n",
       "        vertical-align: top;\n",
       "    }\n",
       "\n",
       "    .dataframe thead th {\n",
       "        text-align: right;\n",
       "    }\n",
       "</style>\n",
       "<table border=\"1\" class=\"dataframe\">\n",
       "  <thead>\n",
       "    <tr style=\"text-align: right;\">\n",
       "      <th></th>\n",
       "      <th>title</th>\n",
       "      <th>dist-eucl-TF-IDF</th>\n",
       "    </tr>\n",
       "  </thead>\n",
       "  <tbody>\n",
       "    <tr>\n",
       "      <th>66</th>\n",
       "      <td>THE MYSTERY OF MARIE ROGET</td>\n",
       "      <td>805.203421</td>\n",
       "    </tr>\n",
       "    <tr>\n",
       "      <th>37</th>\n",
       "      <td>THE GOLD-BUG</td>\n",
       "      <td>715.926714</td>\n",
       "    </tr>\n",
       "    <tr>\n",
       "      <th>63</th>\n",
       "      <td>MAELZEL’S CHESS-PLAYER</td>\n",
       "      <td>714.056597</td>\n",
       "    </tr>\n",
       "    <tr>\n",
       "      <th>68</th>\n",
       "      <td>THE UNPARALLELED ADVENTURES OF ONE HANS PFAAL</td>\n",
       "      <td>688.460021</td>\n",
       "    </tr>\n",
       "    <tr>\n",
       "      <th>60</th>\n",
       "      <td>WHY THE LITTLE FRENCHMAN WEARS HIS HAND IN A S...</td>\n",
       "      <td>685.534694</td>\n",
       "    </tr>\n",
       "    <tr>\n",
       "      <th>41</th>\n",
       "      <td>THE LITERARY LIFE OF  THINGUM BOB, ESQ</td>\n",
       "      <td>641.585651</td>\n",
       "    </tr>\n",
       "    <tr>\n",
       "      <th>57</th>\n",
       "      <td>THOU ART THE MAN</td>\n",
       "      <td>577.003375</td>\n",
       "    </tr>\n",
       "    <tr>\n",
       "      <th>52</th>\n",
       "      <td>THE SPECTACLES</td>\n",
       "      <td>566.969656</td>\n",
       "    </tr>\n",
       "    <tr>\n",
       "      <th>65</th>\n",
       "      <td>THE BALLOON-HOAX</td>\n",
       "      <td>532.243151</td>\n",
       "    </tr>\n",
       "    <tr>\n",
       "      <th>67</th>\n",
       "      <td>THE POETIC PRINCIPLE</td>\n",
       "      <td>529.456660</td>\n",
       "    </tr>\n",
       "  </tbody>\n",
       "</table>\n",
       "</div>"
      ],
      "text/plain": [
       "                                                title  dist-eucl-TF-IDF\n",
       "66                         THE MYSTERY OF MARIE ROGET        805.203421\n",
       "37                                       THE GOLD-BUG        715.926714\n",
       "63                             MAELZEL’S CHESS-PLAYER        714.056597\n",
       "68      THE UNPARALLELED ADVENTURES OF ONE HANS PFAAL        688.460021\n",
       "60  WHY THE LITTLE FRENCHMAN WEARS HIS HAND IN A S...        685.534694\n",
       "41             THE LITERARY LIFE OF  THINGUM BOB, ESQ        641.585651\n",
       "57                                   THOU ART THE MAN        577.003375\n",
       "52                                     THE SPECTACLES        566.969656\n",
       "65                                   THE BALLOON-HOAX        532.243151\n",
       "67                               THE POETIC PRINCIPLE        529.456660"
      ]
     },
     "execution_count": 20,
     "metadata": {},
     "output_type": "execute_result"
    }
   ],
   "source": [
    "df.sort_values(by='dist-eucl-TF-IDF',ascending=False)[['title','dist-eucl-TF-IDF']][0:10]"
   ]
  },
  {
   "cell_type": "markdown",
   "metadata": {},
   "source": [
    "The sequel is still the least similar. The rest of the most different stories are still on similar positions."
   ]
  },
  {
   "cell_type": "markdown",
   "metadata": {},
   "source": [
    "### cosine distance"
   ]
  },
  {
   "cell_type": "markdown",
   "metadata": {},
   "source": [
    "We want to be able to compare stories of verying lengths - just because one is shorter than the other doesn't mean they can't be similar. To do that it's necessary to use cosine distance."
   ]
  },
  {
   "cell_type": "code",
   "execution_count": 21,
   "metadata": {},
   "outputs": [
    {
     "data": {
      "text/html": [
       "<div>\n",
       "<style scoped>\n",
       "    .dataframe tbody tr th:only-of-type {\n",
       "        vertical-align: middle;\n",
       "    }\n",
       "\n",
       "    .dataframe tbody tr th {\n",
       "        vertical-align: top;\n",
       "    }\n",
       "\n",
       "    .dataframe thead th {\n",
       "        text-align: right;\n",
       "    }\n",
       "</style>\n",
       "<table border=\"1\" class=\"dataframe\">\n",
       "  <thead>\n",
       "    <tr style=\"text-align: right;\">\n",
       "      <th></th>\n",
       "      <th>title</th>\n",
       "      <th>dist-cos-TF-IDF</th>\n",
       "    </tr>\n",
       "  </thead>\n",
       "  <tbody>\n",
       "    <tr>\n",
       "      <th>45</th>\n",
       "      <td>THE MURDERS IN THE RUE MORGUE</td>\n",
       "      <td>0.000000</td>\n",
       "    </tr>\n",
       "    <tr>\n",
       "      <th>51</th>\n",
       "      <td>THE PURLOINED LETTER</td>\n",
       "      <td>0.694988</td>\n",
       "    </tr>\n",
       "    <tr>\n",
       "      <th>66</th>\n",
       "      <td>THE MYSTERY OF MARIE ROGET</td>\n",
       "      <td>0.719016</td>\n",
       "    </tr>\n",
       "    <tr>\n",
       "      <th>27</th>\n",
       "      <td>THE BLACK CAT</td>\n",
       "      <td>0.806390</td>\n",
       "    </tr>\n",
       "    <tr>\n",
       "      <th>36</th>\n",
       "      <td>THE FALL OF THE HOUSE OF USHER</td>\n",
       "      <td>0.810188</td>\n",
       "    </tr>\n",
       "    <tr>\n",
       "      <th>54</th>\n",
       "      <td>THE SYSTEM OF DOCTOR TARR AND PROFESSOR FETHER</td>\n",
       "      <td>0.811667</td>\n",
       "    </tr>\n",
       "    <tr>\n",
       "      <th>52</th>\n",
       "      <td>THE SPECTACLES</td>\n",
       "      <td>0.812586</td>\n",
       "    </tr>\n",
       "    <tr>\n",
       "      <th>68</th>\n",
       "      <td>THE UNPARALLELED ADVENTURES OF ONE HANS PFAAL</td>\n",
       "      <td>0.824767</td>\n",
       "    </tr>\n",
       "    <tr>\n",
       "      <th>61</th>\n",
       "      <td>WILLIAM WILSON</td>\n",
       "      <td>0.827324</td>\n",
       "    </tr>\n",
       "    <tr>\n",
       "      <th>14</th>\n",
       "      <td>LOSS OF BREATH</td>\n",
       "      <td>0.836259</td>\n",
       "    </tr>\n",
       "  </tbody>\n",
       "</table>\n",
       "</div>"
      ],
      "text/plain": [
       "                                             title  dist-cos-TF-IDF\n",
       "45                   THE MURDERS IN THE RUE MORGUE         0.000000\n",
       "51                            THE PURLOINED LETTER         0.694988\n",
       "66                      THE MYSTERY OF MARIE ROGET         0.719016\n",
       "27                                   THE BLACK CAT         0.806390\n",
       "36                  THE FALL OF THE HOUSE OF USHER         0.810188\n",
       "54  THE SYSTEM OF DOCTOR TARR AND PROFESSOR FETHER         0.811667\n",
       "52                                  THE SPECTACLES         0.812586\n",
       "68   THE UNPARALLELED ADVENTURES OF ONE HANS PFAAL         0.824767\n",
       "61                                  WILLIAM WILSON         0.827324\n",
       "14                                  LOSS OF BREATH         0.836259"
      ]
     },
     "execution_count": 21,
     "metadata": {},
     "output_type": "execute_result"
    }
   ],
   "source": [
    "dist = pairwise_distances(Y[:,:],Y[df[df['title']=='THE MURDERS IN THE RUE MORGUE'].index,:],metric='cosine',n_jobs=-1)\n",
    "\n",
    "df['dist-cos-TF-IDF'] = dist[:,0]\n",
    "df.sort_values(by='dist-cos-TF-IDF',ascending=True)[['title','dist-cos-TF-IDF']][0:10]"
   ]
  },
  {
   "cell_type": "markdown",
   "metadata": {},
   "source": [
    "Another proposition - if i liked my story I should pick \"The Purloined Letter\". What's more surprising - the sequel no longer is at the end of the list! It's actually second! Now that's more likely."
   ]
  },
  {
   "cell_type": "markdown",
   "metadata": {},
   "source": [
    "## Nearest neighbours"
   ]
  },
  {
   "cell_type": "markdown",
   "metadata": {},
   "source": [
    "Let's look for nearest neighbours a.k.a. stories most similar to the one I picked (\"The Murders in the Rue Morgue\") depending on the method computing similarities (distance). I'm choosing to find 15 of them."
   ]
  },
  {
   "cell_type": "code",
   "execution_count": 22,
   "metadata": {},
   "outputs": [],
   "source": [
    "#data frame with neighbours\n",
    "similars_cosine = df.sort_values(by='dist-cos-TF-IDF',ascending=True)[0:15].story_length\n",
    "similars_eucl = df.sort_values(by='dist-eucl-TF-IDF',ascending=True)[0:15].story_length"
   ]
  },
  {
   "cell_type": "code",
   "execution_count": 23,
   "metadata": {},
   "outputs": [
    {
     "data": {
      "text/plain": [
       "<matplotlib.legend.Legend at 0x12fadbf8b50>"
      ]
     },
     "execution_count": 23,
     "metadata": {},
     "output_type": "execute_result"
    },
    {
     "data": {
      "image/png": "[encoded data removed]",
      "text/plain": [
       "<Figure size 1080x360 with 1 Axes>"
      ]
     },
     "metadata": {
      "needs_background": "light"
     },
     "output_type": "display_data"
    }
   ],
   "source": [
    "plt.figure(figsize=(15,5))\n",
    "\n",
    "plt.hist(df['story_length'], 40,  color='lightblue', edgecolor='white')\n",
    "plt.axvline(x=df['story_length'][df['title']=='THE MURDERS IN THE RUE MORGUE'].values[0], color='blue',ls='--',label='The Murders in the Rue Morgue')\n",
    "plt.axvline(x=df['story_length'][df['title']=='THE MYSTERY OF MARIE ROGET'].values[0], color='orange', ls='--',label='the sequel')\n",
    "plt.hist(similars_eucl, 40, color='grey', histtype='stepfilled', label='neighbors-eucl', alpha=0.7)\n",
    "plt.hist(similars_cosine, 40, color='lightpink', histtype='stepfilled', label='neighbors-cosine', alpha=0.5)\n",
    "\n",
    "plt.title('Distribution of story length')\n",
    "plt.xlabel('# of words')\n",
    "plt.ylabel('% of stories')\n",
    "plt.legend()"
   ]
  },
  {
   "cell_type": "markdown",
   "metadata": {},
   "source": [
    "The 15 nearest neighbors found using cosine distance are a sampling across the range of story lengths. Euclidean method focuses more on shorter stories."
   ]
  },
  {
   "cell_type": "markdown",
   "metadata": {},
   "source": [
    "Cosine distance ignore stories lengths and that's good - as I said before this isn't usually the criteria for picking up a similar story. "
   ]
  },
  {
   "cell_type": "markdown",
   "metadata": {},
   "source": [
    "Now let's see where lie exactly the most and least similar stories"
   ]
  },
  {
   "cell_type": "code",
   "execution_count": 24,
   "metadata": {},
   "outputs": [
    {
     "name": "stdout",
     "output_type": "stream",
     "text": [
      "Most similar(cosine): 51    THE PURLOINED LETTER\n",
      "Name: title, dtype: object\n",
      "Most similar(euclidean): 54    THE SYSTEM OF DOCTOR TARR AND PROFESSOR FETHER\n",
      "Name: title, dtype: object\n",
      "Least similar(cosine): 49    THE POWER OF WORDS\n",
      "Name: title, dtype: object\n",
      "Least similar(euclidean): 66    THE MYSTERY OF MARIE ROGET\n",
      "Name: title, dtype: object\n"
     ]
    }
   ],
   "source": [
    "#cosine\n",
    "sim_cos = df.sort_values(by='dist-cos-TF-IDF',ascending=True)[1:2].title\n",
    "diff_cos = df.sort_values(by='dist-cos-TF-IDF',ascending=False)[0:1].title\n",
    "\n",
    "#euclidean\n",
    "sim_eucl= df.sort_values(by='dist-eucl',ascending=True)[1:2].title\n",
    "diff_eucl = df.sort_values(by='dist-eucl',ascending=False)[0:1].title\n",
    "\n",
    "print('Most similar(cosine):',sim_cos)\n",
    "print('Most similar(euclidean):',sim_eucl)\n",
    "print('Least similar(cosine):',diff_cos)\n",
    "print('Least similar(euclidean):',diff_eucl)"
   ]
  },
  {
   "cell_type": "code",
   "execution_count": 25,
   "metadata": {},
   "outputs": [
    {
     "data": {
      "text/plain": [
       "<matplotlib.legend.Legend at 0x12fae0d1b50>"
      ]
     },
     "execution_count": 25,
     "metadata": {},
     "output_type": "execute_result"
    },
    {
     "data": {
      "image/png": "[encoded data removed]",
      "text/plain": [
       "<Figure size 1080x360 with 1 Axes>"
      ]
     },
     "metadata": {
      "needs_background": "light"
     },
     "output_type": "display_data"
    }
   ],
   "source": [
    "plt.figure(figsize=(15,5))\n",
    "\n",
    "plt.hist(df['story_length'], 60,  color='lightblue', edgecolor='white')\n",
    "plt.axvline(x=df['story_length'][df['title']=='THE MURDERS IN THE RUE MORGUE'].values[0], color='blue',ls='--',label='The Murders in the Rue Morgue')\n",
    "plt.hist(similars_eucl, 60, color='lightgrey', histtype='stepfilled', label='neighbors-eucl', alpha=0.8)\n",
    "plt.hist(similars_cosine, 60, color='lightpink', histtype='stepfilled', label='neighbors-cos', alpha=0.5)\n",
    "\n",
    "plt.axvline(x=df['story_length'][df['title']=='THE BLACK CAT'].values[0], color='red',ls='--',label='most similar(cos)')\n",
    "plt.axvline(x=df['story_length'][df['title']=='THE UNPARALLELED ADVENTURES OF ONE HANS PFAAL'].values[0], color='grey', ls='--',label='most similar(eucl)')\n",
    "plt.axvline(x=df['story_length'][df['title']=='THE MYSTERY OF MARIE ROGET'].values[0], color='lightgrey', ls=':',label='least similar(eucl)')\n",
    "plt.axvline(x=df['story_length'][df['title']=='THE POWER OF WORDS'].values[0], color='pink',ls=':',label='least similar(cos)')\n",
    "\n",
    "\n",
    "plt.title('Distribution of story length')\n",
    "plt.xlabel('# of words')\n",
    "plt.ylabel('% of stories')\n",
    "plt.legend()"
   ]
  },
  {
   "cell_type": "markdown",
   "metadata": {},
   "source": [
    "Similar stories are on different ends of distribution. Euclidean one is a lot closer in length. Most similar story according to cosine method is much shorter, but that doesn't exclude her from the possibility of being its best neighbour."
   ]
  },
  {
   "cell_type": "markdown",
   "metadata": {},
   "source": [
    "As I remember from above, Euclidean returns the sequel as the least similar one, while cosine method puts this story as second most similar and I think here the difference in methods is most clearly visible."
   ]
  },
  {
   "cell_type": "code",
   "execution_count": null,
   "metadata": {},
   "outputs": [],
   "source": []
  }
 ],
 "metadata": {
  "kernelspec": {
   "display_name": "Python 3",
   "language": "python",
   "name": "python3"
  },
  "language_info": {
   "codemirror_mode": {
    "name": "ipython",
    "version": 3
   },
   "file_extension": ".py",
   "mimetype": "text/x-python",
   "name": "python",
   "nbconvert_exporter": "python",
   "pygments_lexer": "ipython3",
   "version": "3.8.3"
  }
 },
 "nbformat": 4,
 "nbformat_minor": 4
}
